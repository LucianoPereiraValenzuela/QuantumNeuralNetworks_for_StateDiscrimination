{
 "cells": [
  {
   "cell_type": "code",
   "execution_count": 20,
   "id": "6133c76d-c63c-4a67-aa6b-531c71b79647",
   "metadata": {},
   "outputs": [],
   "source": [
    "import itertools\n",
    "import numpy as np\n",
    "from numpy import pi\n",
    "from qiskit import Aer\n",
    "from qiskit.compiler import transpile\n",
    "from quantum_neural_networks import StateDiscriminativeQuantumNeuralNetworks"
   ]
  },
  {
   "cell_type": "markdown",
   "id": "5aee9bf3-ce24-4be4-bd40-56056c65a160",
   "metadata": {},
   "source": [
    "Una medida generaliza es un conjunto de operadores $M_j$ que satisfacen $\\sum_j M_j^\\dagger M_j = I$. A los operadores $E_j=M_j^\\dagger M_j $ son llamados elementos de POVM."
   ]
  },
  {
   "cell_type": "code",
   "execution_count": 12,
   "id": "6871900c-2f2d-4fcb-84bd-3160462302fc",
   "metadata": {},
   "outputs": [
    {
     "data": {
      "text/plain": [
       "0.5"
      ]
     },
     "execution_count": 12,
     "metadata": {},
     "output_type": "execute_result"
    }
   ],
   "source": [
    "def random_quantum_state():\n",
    "    z0 = np.random.randn(2) + 1j * np.random.randn(2)\n",
    "    z0 = z0 / np.linalg.norm(z0)\n",
    "    return z0\n",
    "\n",
    "# Create random states\n",
    "# ψ = random_quantum_state()\n",
    "# ϕ = random_quantum_state()\n",
    "ψ = np.array([1,0])\n",
    "φ = np.array([0,1])\n",
    "\n",
    "# Parameters\n",
    "th_u, fi_u, lam_u = [0], [0], [0]\n",
    "th1, th2  = [0], [pi]\n",
    "th_v1, th_v2 = [0], [0]\n",
    "fi_v1, fi_v2 = [0], [0]\n",
    "lam_v1, lam_v2 = [0],  [0]\n",
    "\n",
    "params = list(itertools.chain(th_u, fi_u, lam_u, th1, th2, th_v1, th_v2, fi_v1, fi_v2, lam_v1, lam_v2))\n",
    "# Initialize Discriminator\n",
    "discriminator = StateDiscriminativeQuantumNeuralNetworks(ψ, ϕ)\n",
    "\n",
    "# Calculate cost function\n",
    "discriminator.cost_function(params)"
   ]
  },
  {
   "cell_type": "code",
   "execution_count": 16,
   "id": "8f3d0aa2-ac8d-4e7e-9e1c-196b7ab586de",
   "metadata": {},
   "outputs": [],
   "source": [
    "circuit = discriminator.get_n_element_povm(2,th_u, fi_u, lam_u, th1, th2, th_v1, th_v2, fi_v1, fi_v2, lam_v1, lam_v2)"
   ]
  },
  {
   "cell_type": "code",
   "execution_count": 17,
   "id": "f3daf092-8906-4c48-a387-0e673c865dee",
   "metadata": {},
   "outputs": [
    {
     "data": {
      "image/png": "[encoded data removed]",
      "text/plain": [
       "<Figure size 869.052x144.48 with 1 Axes>"
      ]
     },
     "execution_count": 17,
     "metadata": {},
     "output_type": "execute_result"
    }
   ],
   "source": [
    "circuit.draw(output='mpl')"
   ]
  },
  {
   "cell_type": "code",
   "execution_count": 21,
   "id": "9d69dd22-35a5-4ab2-b941-528552a3480f",
   "metadata": {},
   "outputs": [],
   "source": [
    "backend_sim = Aer.get_backend(discriminator.backend)"
   ]
  },
  {
   "cell_type": "code",
   "execution_count": 22,
   "id": "4a4adbc4-7cd9-4a73-81bd-9b8f42e14f34",
   "metadata": {},
   "outputs": [],
   "source": [
    "circuit = transpile( circuit, backend_sim) "
   ]
  },
  {
   "cell_type": "code",
   "execution_count": 23,
   "id": "9d030262-4e9a-4dad-bec7-0e410e8364b3",
   "metadata": {},
   "outputs": [
    {
     "data": {
      "image/png": "[encoded data removed]",
      "text/plain": [
       "<Figure size 507.852x144.48 with 1 Axes>"
      ]
     },
     "execution_count": 23,
     "metadata": {},
     "output_type": "execute_result"
    }
   ],
   "source": [
    "circuit.draw(output='mpl')"
   ]
  },
  {
   "cell_type": "code",
   "execution_count": 5,
   "id": "3954f4a0-f18c-4076-964e-4a12e467ff9f",
   "metadata": {},
   "outputs": [],
   "source": [
    "def discriminate( optimizer, initial_params ):\n",
    "    \n",
    "    fun = discriminator.cost_function\n",
    "    \n",
    "    results = optimizer.optimize( len(initial_params), fun, initial_point = np.random.randn(11) )\n",
    "    \n",
    "    return results\n"
   ]
  },
  {
   "cell_type": "code",
   "execution_count": 6,
   "id": "6ec1ee5c-9033-4b55-b3ff-67cc67a62a8d",
   "metadata": {},
   "outputs": [],
   "source": [
    "from qiskit.algorithms.optimizers import COBYLA, SPSA, ADAM"
   ]
  },
  {
   "cell_type": "code",
   "execution_count": 7,
   "id": "1cc7502d-eea2-40d7-9a01-13614645f0ed",
   "metadata": {},
   "outputs": [],
   "source": [
    "optimizer = COBYLA(500)"
   ]
  },
  {
   "cell_type": "code",
   "execution_count": 8,
   "id": "594fa2e8-886e-417f-b9b3-56fb230d1516",
   "metadata": {},
   "outputs": [],
   "source": [
    "results = discriminate( optimizer, params )"
   ]
  },
  {
   "cell_type": "code",
   "execution_count": 9,
   "id": "53696662-5b89-4fac-b0e1-8f647a5a4d67",
   "metadata": {},
   "outputs": [
    {
     "data": {
      "text/plain": [
       "(array([ 0.17214801,  0.61471859, -0.81714183,  0.72308605, -0.43033982,\n",
       "        -1.57301301, -0.74917735, -0.94621217,  1.22267458,  0.09732909,\n",
       "        -1.24511778]),\n",
       " 0.51025390625,\n",
       " 96)"
      ]
     },
     "execution_count": 9,
     "metadata": {},
     "output_type": "execute_result"
    }
   ],
   "source": [
    "results"
   ]
  },
  {
   "cell_type": "code",
   "execution_count": 10,
   "id": "5ad97fa4-17fc-4c52-bcec-f3e29b104846",
   "metadata": {},
   "outputs": [
    {
     "data": {
      "text/plain": [
       "0"
      ]
     },
     "execution_count": 10,
     "metadata": {},
     "output_type": "execute_result"
    }
   ],
   "source": [
    "abs(np.vdot(ψ,ϕ))**2"
   ]
  },
  {
   "cell_type": "code",
   "execution_count": 11,
   "id": "205407cb-7050-452a-bddf-ea0ef0fa022e",
   "metadata": {},
   "outputs": [
    {
     "data": {
      "text/plain": [
       "0.0"
      ]
     },
     "execution_count": 11,
     "metadata": {},
     "output_type": "execute_result"
    }
   ],
   "source": [
    "0.5  - 0.5*np.sqrt(1- abs(np.vdot(ψ,ϕ))**2 ) "
   ]
  },
  {
   "cell_type": "code",
   "execution_count": null,
   "id": "02585c54-b980-4843-af57-be2c253cb034",
   "metadata": {},
   "outputs": [],
   "source": []
  }
 ],
 "metadata": {
  "kernelspec": {
   "display_name": "Python 3 (ipykernel)",
   "language": "python",
   "name": "python3"
  },
  "language_info": {
   "codemirror_mode": {
    "name": "ipython",
    "version": 3
   },
   "file_extension": ".py",
   "mimetype": "text/x-python",
   "name": "python",
   "nbconvert_exporter": "python",
   "pygments_lexer": "ipython3",
   "version": "3.9.5"
  }
 },
 "nbformat": 4,
 "nbformat_minor": 5
}
