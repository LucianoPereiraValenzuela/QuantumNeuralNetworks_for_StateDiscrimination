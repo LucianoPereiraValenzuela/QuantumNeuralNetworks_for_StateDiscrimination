{
 "cells": [
  {
   "cell_type": "code",
   "execution_count": 1,
   "id": "6133c76d-c63c-4a67-aa6b-531c71b79647",
   "metadata": {},
   "outputs": [],
   "source": [
    "import itertools\n",
    "import time\n",
    "import numpy as np\n",
    "from numpy import pi\n",
    "from qiskit import Aer\n",
    "from qiskit.compiler import transpile\n",
    "from qiskit.algorithms.optimizers import COBYLA, SPSA, ADAM\n",
    "from quantum_neural_networks import StateDiscriminativeQuantumNeuralNetworks, helstrom_bound, random_quantum_state\n"
   ]
  },
  {
   "cell_type": "markdown",
   "id": "5aee9bf3-ce24-4be4-bd40-56056c65a160",
   "metadata": {},
   "source": [
    "Una medida generaliza es un conjunto de operadores $M_j$ que satisfacen $\\sum_j M_j^\\dagger M_j = I$. A los operadores $E_j=M_j^\\dagger M_j $ son llamados elementos de POVM."
   ]
  },
  {
   "cell_type": "code",
   "execution_count": null,
   "id": "6871900c-2f2d-4fcb-84bd-3160462302fc",
   "metadata": {},
   "outputs": [
    {
     "name": "stdout",
     "output_type": "stream",
     "text": [
      "0.3190529677048043\n",
      "(array([-2.13491561, -0.66094856, -0.42176306,  0.10554883,  3.12540046,\n",
      "        1.09551591, -0.13536255,  1.15388604, -0.2326361 ,  1.60549795,\n",
      "        1.0413833 ]), 0.32861328125, 120)\n",
      "6.326995849609375\n",
      "(array([-1.95085519,  1.18768281, -0.3704872 ,  0.20418634,  2.97417954,\n",
      "       -0.68662744,  1.04509932, -0.64137746,  0.99020334,  1.61735704,\n",
      "        0.64342429]), 0.3232421875, 200)\n",
      "12.22292423248291\n"
     ]
    }
   ],
   "source": [
    "# Create random states\n",
    "ψ = random_quantum_state()\n",
    "ϕ = random_quantum_state()\n",
    "# ψ = np.array([1,0])\n",
    "# φ = np.array([0,1])\n",
    "\n",
    "# Parameters\n",
    "th_u, fi_u, lam_u = [0], [0], [0]\n",
    "th1, th2  = [0], [pi]\n",
    "th_v1, th_v2 = [0], [0]\n",
    "fi_v1, fi_v2 = [0], [0]\n",
    "lam_v1, lam_v2 = [0],  [0]\n",
    "params = list(itertools.chain(th_u, fi_u, lam_u, th1, th2, th_v1, th_v2, fi_v1, fi_v2, lam_v1, lam_v2))\n",
    "\n",
    "# Initialize Discriminator\n",
    "discriminator = StateDiscriminativeQuantumNeuralNetworks(ψ, ϕ)\n",
    "print(helstrom_bound(ψ, ϕ))\n",
    "\n",
    "for optimizer in [COBYLA(1000), SPSA(100), ADAM(100) ]:\n",
    "    t = time.time()\n",
    "    # Calculate cost function\n",
    "    print(discriminator.discriminate(optimizer, params))\n",
    "    print(time.time() - t)"
   ]
  },
  {
   "cell_type": "code",
   "execution_count": null,
   "id": "6e54ff7b",
   "metadata": {},
   "outputs": [],
   "source": []
  }
 ],
 "metadata": {
  "kernelspec": {
   "display_name": "Python 3",
   "language": "python",
   "name": "python3"
  },
  "language_info": {
   "codemirror_mode": {
    "name": "ipython",
    "version": 3
   },
   "file_extension": ".py",
   "mimetype": "text/x-python",
   "name": "python",
   "nbconvert_exporter": "python",
   "pygments_lexer": "ipython3",
   "version": "3.8.8"
  }
 },
 "nbformat": 4,
 "nbformat_minor": 5
}
