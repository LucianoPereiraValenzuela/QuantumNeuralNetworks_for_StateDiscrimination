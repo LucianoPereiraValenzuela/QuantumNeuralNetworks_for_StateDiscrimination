{
 "cells": [
  {
   "cell_type": "code",
   "execution_count": 1,
   "id": "6133c76d-c63c-4a67-aa6b-531c71b79647",
   "metadata": {},
   "outputs": [],
   "source": [
    "import itertools\n",
    "import numpy as np\n",
    "from numpy import pi\n",
    "from quantum_neural_networks import StateDiscriminativeQuantumNeuralNetworks"
   ]
  },
  {
   "cell_type": "markdown",
   "id": "5aee9bf3-ce24-4be4-bd40-56056c65a160",
   "metadata": {},
   "source": [
    "Una medida generaliza es un conjunto de operadores $M_j$ que satisfacen $\\sum_j M_j^\\dagger M_j = I$. A los operadores $E_j=M_j^\\dagger M_j $ son llamados elementos de POVM."
   ]
  },
  {
   "cell_type": "code",
   "execution_count": 2,
   "id": "6871900c-2f2d-4fcb-84bd-3160462302fc",
   "metadata": {},
   "outputs": [
    {
     "ename": "CircuitError",
     "evalue": "'Number of items in qubits parameter does not match number of qubits in the circuit.'",
     "output_type": "error",
     "traceback": [
      "\u001b[1;31m---------------------------------------------------------------------------\u001b[0m",
      "\u001b[1;31mCircuitError\u001b[0m                              Traceback (most recent call last)",
      "\u001b[1;32m~\\AppData\\Local\\Temp/ipykernel_17792/2541985068.py\u001b[0m in \u001b[0;36m<module>\u001b[1;34m\u001b[0m\n\u001b[0;32m     20\u001b[0m \u001b[1;33m\u001b[0m\u001b[0m\n\u001b[0;32m     21\u001b[0m \u001b[1;31m# Calculate cost function\u001b[0m\u001b[1;33m\u001b[0m\u001b[1;33m\u001b[0m\u001b[1;33m\u001b[0m\u001b[0m\n\u001b[1;32m---> 22\u001b[1;33m \u001b[0mdiscriminator\u001b[0m\u001b[1;33m.\u001b[0m\u001b[0mcost_function\u001b[0m\u001b[1;33m(\u001b[0m\u001b[0mparams\u001b[0m\u001b[1;33m)\u001b[0m\u001b[1;33m\u001b[0m\u001b[1;33m\u001b[0m\u001b[0m\n\u001b[0m",
      "\u001b[1;32m~\\Desktop\\Personal\\Quantum\\QuantumNeuralNetworks_for_StateDiscrimination\\qnn\\quantum_neural_networks.py\u001b[0m in \u001b[0;36mcost_function\u001b[1;34m(self, params)\u001b[0m\n\u001b[0;32m     67\u001b[0m         \u001b[0mqc_ψ\u001b[0m\u001b[1;33m.\u001b[0m\u001b[0minitialize\u001b[0m\u001b[1;33m(\u001b[0m\u001b[0mself\u001b[0m\u001b[1;33m.\u001b[0m\u001b[0mψ\u001b[0m\u001b[1;33m,\u001b[0m \u001b[1;36m0\u001b[0m\u001b[1;33m)\u001b[0m\u001b[1;33m\u001b[0m\u001b[1;33m\u001b[0m\u001b[0m\n\u001b[0;32m     68\u001b[0m         \u001b[0mqc_ψ\u001b[0m\u001b[1;33m.\u001b[0m\u001b[0mbarrier\u001b[0m\u001b[1;33m(\u001b[0m\u001b[1;33m)\u001b[0m\u001b[1;33m\u001b[0m\u001b[1;33m\u001b[0m\u001b[0m\n\u001b[1;32m---> 69\u001b[1;33m         \u001b[0mqc_ψ\u001b[0m\u001b[1;33m.\u001b[0m\u001b[0mcompose\u001b[0m\u001b[1;33m(\u001b[0m\u001b[0mcircuit\u001b[0m\u001b[1;33m,\u001b[0m \u001b[1;33m[\u001b[0m\u001b[1;36m0\u001b[0m\u001b[1;33m,\u001b[0m \u001b[1;36m1\u001b[0m\u001b[1;33m]\u001b[0m\u001b[1;33m,\u001b[0m \u001b[0minplace\u001b[0m\u001b[1;33m=\u001b[0m\u001b[1;32mTrue\u001b[0m\u001b[1;33m)\u001b[0m\u001b[1;33m\u001b[0m\u001b[1;33m\u001b[0m\u001b[0m\n\u001b[0m\u001b[0;32m     70\u001b[0m         \u001b[0mqc_ψ\u001b[0m\u001b[1;33m.\u001b[0m\u001b[0mmeasure\u001b[0m\u001b[1;33m(\u001b[0m\u001b[1;36m1\u001b[0m\u001b[1;33m,\u001b[0m \u001b[1;36m0\u001b[0m\u001b[1;33m)\u001b[0m\u001b[1;33m\u001b[0m\u001b[1;33m\u001b[0m\u001b[0m\n\u001b[0;32m     71\u001b[0m \u001b[1;33m\u001b[0m\u001b[0m\n",
      "\u001b[1;32mc:\\programdata\\anaconda3\\envs\\quantumneuralnetworks_for_statediscrimination\\lib\\site-packages\\qiskit\\circuit\\quantumcircuit.py\u001b[0m in \u001b[0;36mcompose\u001b[1;34m(self, other, qubits, clbits, front, inplace, wrap)\u001b[0m\n\u001b[0;32m    753\u001b[0m             \u001b[0mqubit_map\u001b[0m \u001b[1;33m=\u001b[0m \u001b[0midentity_qubit_map\u001b[0m\u001b[1;33m\u001b[0m\u001b[1;33m\u001b[0m\u001b[0m\n\u001b[0;32m    754\u001b[0m         \u001b[1;32melif\u001b[0m \u001b[0mlen\u001b[0m\u001b[1;33m(\u001b[0m\u001b[0mqubits\u001b[0m\u001b[1;33m)\u001b[0m \u001b[1;33m!=\u001b[0m \u001b[0mlen\u001b[0m\u001b[1;33m(\u001b[0m\u001b[0mother\u001b[0m\u001b[1;33m.\u001b[0m\u001b[0mqubits\u001b[0m\u001b[1;33m)\u001b[0m\u001b[1;33m:\u001b[0m\u001b[1;33m\u001b[0m\u001b[1;33m\u001b[0m\u001b[0m\n\u001b[1;32m--> 755\u001b[1;33m             raise CircuitError(\n\u001b[0m\u001b[0;32m    756\u001b[0m                 \u001b[1;34m\"Number of items in qubits parameter does not\"\u001b[0m\u001b[1;33m\u001b[0m\u001b[1;33m\u001b[0m\u001b[0m\n\u001b[0;32m    757\u001b[0m                 \u001b[1;34m\" match number of qubits in the circuit.\"\u001b[0m\u001b[1;33m\u001b[0m\u001b[1;33m\u001b[0m\u001b[0m\n",
      "\u001b[1;31mCircuitError\u001b[0m: 'Number of items in qubits parameter does not match number of qubits in the circuit.'"
     ]
    }
   ],
   "source": [
    "def random_quantum_state():\n",
    "    z0 = np.random.randn(2) + 1j * np.random.randn(2)\n",
    "    z0 = z0 / np.linalg.norm(z0)\n",
    "    return z0\n",
    "\n",
    "# Create random states\n",
    "ψ = random_quantum_state()\n",
    "ϕ = random_quantum_state()\n",
    "\n",
    "# Parameters\n",
    "th_u, fi_u, lam_u = [0], [0], [pi/2]\n",
    "th1, th2  = [pi], [pi / 2]\n",
    "th_v1, th_v2 = [pi], [pi / 2]\n",
    "fi_v1, fi_v2 = [pi], [pi / 2]\n",
    "lam_v1, lam_v2 = [pi],  [pi / 2]\n",
    "\n",
    "params = list(itertools.chain(th_u, fi_u, lam_u, th1, th2, th_v1, th_v2, fi_v1, fi_v2, lam_v1, lam_v2))\n",
    "# Initialize Discriminator\n",
    "discriminator = StateDiscriminativeQuantumNeuralNetworks(ψ, ϕ)\n",
    "\n",
    "# Calculate cost function\n",
    "discriminator.cost_function(params)"
   ]
  },
  {
   "cell_type": "code",
   "execution_count": 5,
   "id": "92a8ef28",
   "metadata": {},
   "outputs": [],
   "source": [
    "n = len(params) // 11\n",
    "th_u, fi_u, lam_u, th1, th2, th_v1, th_v2, fi_v1, fi_v2, lam_v1, lam_v2 = [params[i * n:(i + 1) * n] for i in\n",
    "                                                                           range(len(params) // n)]"
   ]
  },
  {
   "cell_type": "code",
   "execution_count": 6,
   "id": "4581ab8b",
   "metadata": {},
   "outputs": [
    {
     "data": {
      "text/plain": [
       "([0],\n",
       " [0],\n",
       " [1.5707963267948966],\n",
       " [3.141592653589793],\n",
       " [1.5707963267948966],\n",
       " [3.141592653589793],\n",
       " [1.5707963267948966],\n",
       " [3.141592653589793],\n",
       " [1.5707963267948966],\n",
       " [3.141592653589793],\n",
       " [1.5707963267948966])"
      ]
     },
     "execution_count": 6,
     "metadata": {},
     "output_type": "execute_result"
    }
   ],
   "source": [
    "th_u, fi_u, lam_u, th1, th2, th_v1, th_v2, fi_v1, fi_v2, lam_v1, lam_v2"
   ]
  },
  {
   "cell_type": "code",
   "execution_count": null,
   "id": "9a946470-ca2c-40a9-a8e9-84b88a3a7e00",
   "metadata": {},
   "outputs": [],
   "source": [
    "# def random_generalized_measurement():\n",
    "#     Z0 = np.random.randn(2, 2) + 1j * np.random.randn(2, 2)\n",
    "#     Z0, _ = np.linalg.qr(Z0)\n",
    "\n",
    "#     Z1 = np.random.randn(2, 2) + 1j * np.random.randn(2, 2)\n",
    "#     Z1, _ = np.linalg.qr(Z1)\n",
    "\n",
    "#     M0 = Z0 @ np.array([[1, 0], [0, 0]])\n",
    "#     M1 = Z1 @ np.array([[0, 0], [0, 1]])\n",
    "#     return M0, M1\n",
    "\n",
    "\n",
    "# # Define M0 and M1\n",
    "# M0, M1 = random_generalized_measurement()\n",
    "# # M0.T.conj()@M0 + M1.T.conj()@M1 = I\n",
    "\n",
    "# V0, D0, U0 = np.linalg.svd(M0)\n",
    "# V1, D1, U1 = np.linalg.svd(M1)\n",
    "# U0, U1\n",
    "\n",
    "\n",
    "- PovmN\n",
    "- QNN\n",
    "--- discriminate( ψ, ϕ, shots, iters, α_error, α_inc, noise )\n",
    "--- cost_function( ψ, ϕ, parameters )\n",
    "- utils\n",
    "\n",
    "- examples \n",
    "- experimento\n",
    "\n",
    "\n",
    "\n",
    "\n",
    "\n",
    "\n"
   ]
  }
 ],
 "metadata": {
  "kernelspec": {
   "display_name": "Python 3 (ipykernel)",
   "language": "python",
   "name": "python3"
  },
  "language_info": {
   "codemirror_mode": {
    "name": "ipython",
    "version": 3
   },
   "file_extension": ".py",
   "mimetype": "text/x-python",
   "name": "python",
   "nbconvert_exporter": "python",
   "pygments_lexer": "ipython3",
   "version": "3.8.12"
  }
 },
 "nbformat": 4,
 "nbformat_minor": 5
}
