{
 "cells": [
  {
   "cell_type": "code",
   "execution_count": 11,
   "id": "6133c76d-c63c-4a67-aa6b-531c71b79647",
   "metadata": {},
   "outputs": [],
   "source": [
    "import numpy as np\n",
    "from numpy import pi\n",
    "from quantum_neural_networks import StateDiscriminativeQuantumNeuralNetworks"
   ]
  },
  {
   "cell_type": "markdown",
   "id": "5aee9bf3-ce24-4be4-bd40-56056c65a160",
   "metadata": {},
   "source": [
    "Una medida generaliza es un conjunto de operadores $M_j$ que satisfacen $\\sum_j M_j^\\dagger M_j = I$. A los operadores $E_j=M_j^\\dagger M_j $ son llamados elementos de POVM."
   ]
  },
  {
   "cell_type": "code",
   "execution_count": 14,
   "id": "6871900c-2f2d-4fcb-84bd-3160462302fc",
   "metadata": {},
   "outputs": [],
   "source": [
    "def random_quantum_state():\n",
    "    z0 = np.random.randn(2) + 1j * np.random.randn(2)\n",
    "    z0 = z0 / np.linalg.norm(z0)\n",
    "    return z0\n",
    "\n",
    "# Create random states\n",
    "ψ = random_quantum_state()\n",
    "ϕ = random_quantum_state()\n",
    "\n",
    "# Parameters\n",
    "N = 2\n",
    "th1, th2  = [pi], [pi / 2]\n",
    "th_v1, th_v2 = [pi], [pi / 2]\n",
    "fi_v1, fi_v2 = [pi], [pi / 2]\n",
    "lam_v1, lam_v2 = [pi],  [pi / 2]\n",
    "th_u, fi_u, lam_u = [0], [0], [pi/2]"
   ]
  },
  {
   "cell_type": "code",
   "execution_count": 15,
   "id": "6b64ac17",
   "metadata": {},
   "outputs": [
    {
     "data": {
      "text/plain": [
       "0.4873046875"
      ]
     },
     "execution_count": 15,
     "metadata": {},
     "output_type": "execute_result"
    }
   ],
   "source": [
    "# Initialize Discr\n",
    "discriminator = StateDiscriminativeQuantumNeuralNetworks(ψ, ϕ)\n",
    "discriminator.cost_function(N, th_u, fi_u, lam_u, th1, th2, th_v1, th_v2, fi_v1, fi_v2, lam_v1, lam_v2)"
   ]
  },
  {
   "cell_type": "code",
   "execution_count": null,
   "id": "9a946470-ca2c-40a9-a8e9-84b88a3a7e00",
   "metadata": {},
   "outputs": [],
   "source": [
    "# def random_generalized_measurement():\n",
    "#     Z0 = np.random.randn(2, 2) + 1j * np.random.randn(2, 2)\n",
    "#     Z0, _ = np.linalg.qr(Z0)\n",
    "\n",
    "#     Z1 = np.random.randn(2, 2) + 1j * np.random.randn(2, 2)\n",
    "#     Z1, _ = np.linalg.qr(Z1)\n",
    "\n",
    "#     M0 = Z0 @ np.array([[1, 0], [0, 0]])\n",
    "#     M1 = Z1 @ np.array([[0, 0], [0, 1]])\n",
    "#     return M0, M1\n",
    "\n",
    "\n",
    "# # Define M0 and M1\n",
    "# M0, M1 = random_generalized_measurement()\n",
    "# # M0.T.conj()@M0 + M1.T.conj()@M1 = I\n",
    "\n",
    "# V0, D0, U0 = np.linalg.svd(M0)\n",
    "# V1, D1, U1 = np.linalg.svd(M1)\n",
    "# U0, U1\n",
    "\n",
    "\n",
    "- PovmN\n",
    "- QNN\n",
    "--- discriminate( ψ, ϕ, shots, iters, α_error, α_inc, noise )\n",
    "--- cost_function( ψ, ϕ, parameters )\n",
    "- utils\n",
    "\n",
    "- examples \n",
    "- experimento\n",
    "\n",
    "\n",
    "\n",
    "\n",
    "\n",
    "\n"
   ]
  }
 ],
 "metadata": {
  "kernelspec": {
   "display_name": "Python 3 (ipykernel)",
   "language": "python",
   "name": "python3"
  },
  "language_info": {
   "codemirror_mode": {
    "name": "ipython",
    "version": 3
   },
   "file_extension": ".py",
   "mimetype": "text/x-python",
   "name": "python",
   "nbconvert_exporter": "python",
   "pygments_lexer": "ipython3",
   "version": "3.8.12"
  }
 },
 "nbformat": 4,
 "nbformat_minor": 5
}
