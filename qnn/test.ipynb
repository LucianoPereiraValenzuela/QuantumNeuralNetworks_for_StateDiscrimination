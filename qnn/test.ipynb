{
 "cells": [
  {
   "cell_type": "code",
   "execution_count": 1,
   "id": "6133c76d-c63c-4a67-aa6b-531c71b79647",
   "metadata": {},
   "outputs": [],
   "source": [
    "import itertools\n",
    "import time\n",
    "import numpy as np\n",
    "from numpy import pi\n",
    "from qiskit import Aer\n",
    "from qiskit.compiler import transpile\n",
    "from qiskit.algorithms.optimizers import COBYLA, SPSA, ADAM\n",
    "from quantum_neural_networks import StateDiscriminativeQuantumNeuralNetworks, helstrom_bound, random_quantum_state\n"
   ]
  },
  {
   "cell_type": "markdown",
   "id": "5aee9bf3-ce24-4be4-bd40-56056c65a160",
   "metadata": {},
   "source": [
    "Una medida generaliza es un conjunto de operadores $M_j$ que satisfacen $\\sum_j M_j^\\dagger M_j = I$. A los operadores $E_j=M_j^\\dagger M_j $ son llamados elementos de POVM."
   ]
  },
  {
   "cell_type": "code",
   "execution_count": 4,
   "id": "6871900c-2f2d-4fcb-84bd-3160462302fc",
   "metadata": {},
   "outputs": [
    {
     "name": "stdout",
     "output_type": "stream",
     "text": [
      "0.05987820184089865\n",
      "(array([ 5.23111723e-01,  1.45456339e-01, -1.71182970e-03, -9.26239759e-03,\n",
      "        3.10644663e+00,  1.00107271e+00, -8.07660151e-03,  1.24181161e+00,\n",
      "        6.33547016e-02,  1.00282417e+00, -4.51817143e-03]), 0.06298828125, 97)\n",
      "4.710175275802612\n",
      "(array([ 0.63263924, -1.1447532 ,  0.4522126 ,  0.00815211,  3.16814   ,\n",
      "       -0.79278621, -1.39748581,  0.30100979, -0.39970666,  0.63842779,\n",
      "       -0.81155874]), 0.06005859375, 200)\n",
      "12.432236433029175\n"
     ]
    }
   ],
   "source": [
    "# Create random states\n",
    "ψ = random_quantum_state()\n",
    "ϕ = random_quantum_state()\n",
    "# ψ = np.array([1,0])\n",
    "# φ = np.array([0,1])\n",
    "\n",
    "# Parameters\n",
    "th_u, fi_u, lam_u = [0], [0], [0]\n",
    "th1, th2  = [0], [pi]\n",
    "th_v1, th_v2 = [0], [0]\n",
    "fi_v1, fi_v2 = [0], [0]\n",
    "lam_v1, lam_v2 = [0],  [0]\n",
    "params = list(itertools.chain(th_u, fi_u, lam_u, th1, th2, th_v1, th_v2, fi_v1, fi_v2, lam_v1, lam_v2))\n",
    "\n",
    "# Initialize Discriminator\n",
    "discriminator = StateDiscriminativeQuantumNeuralNetworks([ψ, ϕ])\n",
    "print(helstrom_bound(ψ, ϕ))\n",
    "\n",
    "for optimizer in [COBYLA(1000), SPSA(100)]:\n",
    "    t = time.time()\n",
    "    # Calculate cost function\n",
    "    print(discriminator.discriminate(optimizer, params))\n",
    "    print(time.time() - t)"
   ]
  },
  {
   "cell_type": "code",
   "execution_count": null,
   "id": "6e54ff7b",
   "metadata": {},
   "outputs": [],
   "source": []
  }
 ],
 "metadata": {
  "kernelspec": {
   "display_name": "Python 3",
   "language": "python",
   "name": "python3"
  },
  "language_info": {
   "codemirror_mode": {
    "name": "ipython",
    "version": 3
   },
   "file_extension": ".py",
   "mimetype": "text/x-python",
   "name": "python",
   "nbconvert_exporter": "python",
   "pygments_lexer": "ipython3",
   "version": "3.8.8"
  }
 },
 "nbformat": 4,
 "nbformat_minor": 5
}
