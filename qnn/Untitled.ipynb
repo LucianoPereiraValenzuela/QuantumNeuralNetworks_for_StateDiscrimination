{
 "cells": [
  {
   "cell_type": "code",
   "execution_count": 2,
   "id": "8b6a4fa7",
   "metadata": {},
   "outputs": [],
   "source": [
    "import itertools\n",
    "import numpy as np\n",
    "from numpy import pi\n",
    "from qiskit import Aer\n",
    "from qiskit.compiler import transpile\n",
    "from qiskit.algorithms.optimizers import COBYLA, SPSA, ADAM\n",
    "from quantum_neural_networks import StateDiscriminativeQuantumNeuralNetworks, helstrom_bound, random_quantum_state\n",
    "import matplotlib.pyplot as plt"
   ]
  },
  {
   "cell_type": "code",
   "execution_count": 22,
   "id": "edd05e93",
   "metadata": {},
   "outputs": [
    {
     "name": "stdout",
     "output_type": "stream",
     "text": [
      "[0.48681640625, 0.46728515625, 0.45703125, 0.4140625, 0.38916015625, 0.3662109375, 0.35546875, 0.32177734375, 0.28369140625, 0.279296875, 0.2548828125, 0.22265625, 0.2001953125, 0.17431640625, 0.171875, 0.1376953125, 0.126953125, 0.10888671875, 0.087890625, 0.07666015625, 0.056640625, 0.08251953125, 0.03271484375, 0.03466796875, 0.0224609375, 0.0126953125, 0.0068359375, 0.0029296875, 0.00146484375, 0.43115234375]\n"
     ]
    },
    {
     "data": {
      "text/plain": [
       "<matplotlib.collections.PathCollection at 0x1e5e27ffe80>"
      ]
     },
     "execution_count": 22,
     "metadata": {},
     "output_type": "execute_result"
    },
    {
     "data": {
      "image/png": "[encoded data removed]",
      "text/plain": [
       "<Figure size 432x288 with 1 Axes>"
      ]
     },
     "metadata": {
      "needs_background": "light"
     },
     "output_type": "display_data"
    }
   ],
   "source": [
    "th=np.linspace(0.,pi/2,num =30)\n",
    "err=[]\n",
    "for theta in th:\n",
    "    state0 = np.array([ 1, 0])\n",
    "    state1 = np.array([np.cos(theta), np.sin(theta)])\n",
    "    # Parameters\n",
    "    th_u, fi_u, lam_u = [0], [0], [0]\n",
    "    th1, th2  = [0], [pi]\n",
    "    th_v1, th_v2 = [0], [0]\n",
    "    fi_v1, fi_v2 = [0], [0]\n",
    "    lam_v1, lam_v2 = [0],  [0]\n",
    "\n",
    "    params = list(itertools.chain(th_u, fi_u, lam_u, th1, th2, th_v1, th_v2, fi_v1, fi_v2, lam_v1, lam_v2))\n",
    "    # Initialize Discriminator\n",
    "    discriminator = StateDiscriminativeQuantumNeuralNetworks([state0, state1],0,1)\n",
    "\n",
    "    # Calculate cost function\n",
    "    results = discriminator.discriminate(SPSA(100), params)[1]\n",
    "    err.append(results)\n",
    "print(err)\n",
    "fig, ax = plt.subplots()\n",
    "#Dibujar puntos\n",
    "ax.scatter(th[:],err[:])\n"
   ]
  },
  {
   "cell_type": "code",
   "execution_count": 21,
   "id": "f41d4d88",
   "metadata": {},
   "outputs": [
    {
     "data": {
      "text/plain": [
       "11"
      ]
     },
     "execution_count": 21,
     "metadata": {},
     "output_type": "execute_result"
    }
   ],
   "source": []
  },
  {
   "cell_type": "code",
   "execution_count": null,
   "id": "41af682f",
   "metadata": {},
   "outputs": [],
   "source": []
  }
 ],
 "metadata": {
  "kernelspec": {
   "display_name": "Python 3",
   "language": "python",
   "name": "python3"
  },
  "language_info": {
   "codemirror_mode": {
    "name": "ipython",
    "version": 3
   },
   "file_extension": ".py",
   "mimetype": "text/x-python",
   "name": "python",
   "nbconvert_exporter": "python",
   "pygments_lexer": "ipython3",
   "version": "3.8.8"
  }
 },
 "nbformat": 4,
 "nbformat_minor": 5
}
