{
 "cells": [
  {
   "cell_type": "code",
   "execution_count": 1,
   "id": "046e596c-e9eb-4481-937e-b0cde0c2e827",
   "metadata": {},
   "outputs": [],
   "source": [
    "import itertools\n",
    "import numpy as np\n",
    "from numpy import pi\n",
    "from qiskit import Aer\n",
    "from qiskit.compiler import transpile\n",
    "from qiskit.algorithms.optimizers import COBYLA, SPSA, ADAM\n",
    "from quantum_neural_networks import StateDiscriminativeQuantumNeuralNetworks, helstrom_bound, random_quantum_state"
   ]
  },
  {
   "cell_type": "code",
   "execution_count": 2,
   "id": "5083a546-7c9b-4c6b-9f19-c420caf44d0d",
   "metadata": {},
   "outputs": [
    {
     "name": "stdout",
     "output_type": "stream",
     "text": [
      "(array([ 1.09509482,  1.89327477,  1.14522418, -0.07685977,  3.223602  ,\n",
      "        0.48488847, -0.22766105,  1.48497669, -1.60651307,  1.06704892,\n",
      "       -1.07086545]), 0.22314453125, 200)\n"
     ]
    },
    {
     "data": {
      "text/plain": [
       "0.21738960239976035"
      ]
     },
     "execution_count": 2,
     "metadata": {},
     "output_type": "execute_result"
    }
   ],
   "source": [
    "# Create random states\n",
    "ψ = random_quantum_state()\n",
    "ϕ = random_quantum_state()\n",
    "# ψ = np.array([1,0])\n",
    "# φ = np.array([0,1])\n",
    "\n",
    "# Parameters\n",
    "th_u, fi_u, lam_u = [0], [0], [0]\n",
    "th1, th2  = [0], [pi]\n",
    "th_v1, th_v2 = [0], [0]\n",
    "fi_v1, fi_v2 = [0], [0]\n",
    "lam_v1, lam_v2 = [0],  [0]\n",
    "\n",
    "params = list(itertools.chain(th_u, fi_u, lam_u, th1, th2, th_v1, th_v2, fi_v1, fi_v2, lam_v1, lam_v2))\n",
    "# Initialize Discriminator\n",
    "discriminator = StateDiscriminativeQuantumNeuralNetworks(ψ, ϕ)\n",
    "\n",
    "# Calculate cost function\n",
    "results = discriminator.discriminate(SPSA(100), params)\n",
    "print( results )\n",
    "\n",
    "# Optimal error\n",
    "helstrom_bound( ψ, ϕ )"
   ]
  },
  {
   "cell_type": "code",
   "execution_count": null,
   "id": "8024a760-6765-4dad-a96f-fd0f3d3ca215",
   "metadata": {},
   "outputs": [],
   "source": []
  },
  {
   "cell_type": "code",
   "execution_count": null,
   "id": "dfa031c8-7f1e-4994-8935-58a943f1c431",
   "metadata": {},
   "outputs": [],
   "source": []
  },
  {
   "cell_type": "code",
   "execution_count": null,
   "id": "901ec837-56df-484b-9c0b-8ba3a7f95336",
   "metadata": {},
   "outputs": [],
   "source": []
  },
  {
   "cell_type": "code",
   "execution_count": null,
   "id": "d06ff9e7-1579-44e2-a78e-791389c62db6",
   "metadata": {},
   "outputs": [],
   "source": []
  },
  {
   "cell_type": "code",
   "execution_count": null,
   "id": "84d11f34-ce05-48fb-9c24-ac9178527ab7",
   "metadata": {},
   "outputs": [],
   "source": []
  }
 ],
 "metadata": {
  "kernelspec": {
   "display_name": "Python 3 (ipykernel)",
   "language": "python",
   "name": "python3"
  },
  "language_info": {
   "codemirror_mode": {
    "name": "ipython",
    "version": 3
   },
   "file_extension": ".py",
   "mimetype": "text/x-python",
   "name": "python",
   "nbconvert_exporter": "python",
   "pygments_lexer": "ipython3",
   "version": "3.9.5"
  }
 },
 "nbformat": 4,
 "nbformat_minor": 5
}
