{
 "cells": [
  {
   "cell_type": "code",
   "execution_count": 1,
   "id": "514cde41-898a-478c-bc5f-e9e1ccff2346",
   "metadata": {},
   "outputs": [],
   "source": [
    "import itertools\n",
    "import numpy as np\n",
    "from numpy import pi\n",
    "from qiskit import Aer, QuantumCircuit\n",
    "from qiskit.compiler import transpile\n",
    "from quantum_neural_networks import StateDiscriminativeQuantumNeuralNetworks"
   ]
  },
  {
   "cell_type": "code",
   "execution_count": 2,
   "id": "64dbcd0c-acdf-410f-8c01-0b9fe9c9b18d",
   "metadata": {},
   "outputs": [],
   "source": [
    "def random_quantum_state():\n",
    "    z0 = np.random.randn(2) + 1j * np.random.randn(2)\n",
    "    z0 = z0 / np.linalg.norm(z0)\n",
    "    return z0\n",
    "\n",
    "# Create random states\n",
    "# ψ = random_quantum_state()\n",
    "# ϕ = random_quantum_state()\n",
    "ψ = np.array([1,0])\n",
    "φ = np.array([0,1])"
   ]
  },
  {
   "cell_type": "code",
   "execution_count": 3,
   "id": "55b57664-fd0a-4aab-9d0a-27065589b3fd",
   "metadata": {},
   "outputs": [
    {
     "data": {
      "text/plain": [
       "0.0"
      ]
     },
     "execution_count": 3,
     "metadata": {},
     "output_type": "execute_result"
    }
   ],
   "source": [
    "# Parameters\n",
    "th_u, fi_u, lam_u = [0], [0], [0]\n",
    "th1, th2  = [0], [pi]\n",
    "th_v1, th_v2 = [0], [0]\n",
    "fi_v1, fi_v2 = [0], [0]\n",
    "lam_v1, lam_v2 = [0],  [0]\n",
    "\n",
    "params = list(itertools.chain(th_u, fi_u, lam_u, th1, th2, th_v1, th_v2, fi_v1, fi_v2, lam_v1, lam_v2))\n",
    "# Initialize Discriminator\n",
    "discriminator = StateDiscriminativeQuantumNeuralNetworks(ψ, ϕ)\n",
    "\n",
    "# Calculate cost function\n",
    "discriminator.cost_function(params)"
   ]
  },
  {
   "cell_type": "code",
   "execution_count": 4,
   "id": "9f1b45e3-4088-4d23-826e-cc510ed91655",
   "metadata": {},
   "outputs": [],
   "source": [
    "circuit = discriminator.get_n_element_povm(2,th_u, fi_u, lam_u, th1, th2, th_v1, th_v2, fi_v1, fi_v2, lam_v1, lam_v2)"
   ]
  },
  {
   "cell_type": "code",
   "execution_count": 5,
   "id": "56168432-1f60-43ad-b80b-67769d015b3d",
   "metadata": {},
   "outputs": [
    {
     "data": {
      "image/png": "[encoded data removed]",
      "text/plain": [
       "<Figure size 929.252x204.68 with 1 Axes>"
      ]
     },
     "execution_count": 5,
     "metadata": {},
     "output_type": "execute_result"
    }
   ],
   "source": [
    "qc1 = QuantumCircuit(2, 1)\n",
    "qc1.compose( circuit, [0,1], inplace=True )\n",
    "qc1.measure(1,0)\n",
    "qc1.draw(output='mpl')"
   ]
  },
  {
   "cell_type": "code",
   "execution_count": 6,
   "id": "a289bf00-d4ef-41c0-8136-9a3b4a5a8d3e",
   "metadata": {},
   "outputs": [
    {
     "data": {
      "image/png": "[encoded data removed]",
      "text/plain": [
       "<Figure size 989.452x204.68 with 1 Axes>"
      ]
     },
     "execution_count": 6,
     "metadata": {},
     "output_type": "execute_result"
    }
   ],
   "source": [
    "qc2 = QuantumCircuit(2, 1)\n",
    "qc2.x(0)\n",
    "qc2.compose( circuit, [0,1], inplace=True ) \n",
    "qc2.measure(1,0)\n",
    "qc2.draw(output='mpl')"
   ]
  },
  {
   "cell_type": "code",
   "execution_count": 7,
   "id": "3e60fd1c-8ead-4cad-9d8e-6e0a18bbfd19",
   "metadata": {},
   "outputs": [],
   "source": [
    "backend_sim = Aer.get_backend(discriminator._backend)"
   ]
  },
  {
   "cell_type": "code",
   "execution_count": 8,
   "id": "5bc3e367-84f4-4fc4-b52e-88b5d1594bd0",
   "metadata": {},
   "outputs": [],
   "source": [
    "qcs = transpile( [qc1,qc2], backend_sim) "
   ]
  },
  {
   "cell_type": "code",
   "execution_count": 9,
   "id": "6ac01091-6989-41ca-a4fb-bbb882a5130e",
   "metadata": {},
   "outputs": [],
   "source": [
    "results = backend_sim.run( qcs ).result()"
   ]
  },
  {
   "cell_type": "code",
   "execution_count": 10,
   "id": "a12395c1-e5e6-454b-a0cd-448f2efb7584",
   "metadata": {},
   "outputs": [
    {
     "data": {
      "text/plain": [
       "{'0': 1024}"
      ]
     },
     "execution_count": 10,
     "metadata": {},
     "output_type": "execute_result"
    }
   ],
   "source": [
    "results.get_counts(qc1)"
   ]
  },
  {
   "cell_type": "code",
   "execution_count": 11,
   "id": "1e61bab8-f9d6-421f-b83e-2c86eebcd931",
   "metadata": {},
   "outputs": [
    {
     "data": {
      "text/plain": [
       "{'1': 1024}"
      ]
     },
     "execution_count": 11,
     "metadata": {},
     "output_type": "execute_result"
    }
   ],
   "source": [
    "results.get_counts(qc2)"
   ]
  },
  {
   "cell_type": "code",
   "execution_count": null,
   "id": "f3ff29c5-70c1-4486-b36f-9d5c2dcbd266",
   "metadata": {},
   "outputs": [],
   "source": []
  },
  {
   "cell_type": "code",
   "execution_count": null,
   "id": "b18f6ad4-9e2b-41ed-b35d-168acacc4e7b",
   "metadata": {},
   "outputs": [],
   "source": []
  },
  {
   "cell_type": "code",
   "execution_count": null,
   "id": "446b95b0-1ae6-466a-9f03-b23773d0bd8a",
   "metadata": {},
   "outputs": [],
   "source": []
  },
  {
   "cell_type": "code",
   "execution_count": null,
   "id": "952db59b-9e31-45fb-b9c2-94c4ad37b127",
   "metadata": {},
   "outputs": [],
   "source": []
  },
  {
   "cell_type": "code",
   "execution_count": null,
   "id": "3a199c56-c140-441b-a400-13727cf24dc1",
   "metadata": {},
   "outputs": [],
   "source": []
  },
  {
   "cell_type": "code",
   "execution_count": null,
   "id": "60d0efe3-1961-4b99-9784-410d230fc9e5",
   "metadata": {},
   "outputs": [],
   "source": []
  }
 ],
 "metadata": {
  "kernelspec": {
   "display_name": "Python 3 (ipykernel)",
   "language": "python",
   "name": "python3"
  },
  "language_info": {
   "codemirror_mode": {
    "name": "ipython",
    "version": 3
   },
   "file_extension": ".py",
   "mimetype": "text/x-python",
   "name": "python",
   "nbconvert_exporter": "python",
   "pygments_lexer": "ipython3",
   "version": "3.9.5"
  }
 },
 "nbformat": 4,
 "nbformat_minor": 5
}
