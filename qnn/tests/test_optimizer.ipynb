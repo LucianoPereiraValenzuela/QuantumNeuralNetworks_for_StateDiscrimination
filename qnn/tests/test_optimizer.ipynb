{
 "cells": [
  {
   "cell_type": "markdown",
   "id": "atlantic-demographic",
   "metadata": {},
   "source": [
    "# Test: Optimizers performance\n",
    "\n",
    "In this notebook we are testing how different optimizers such as SPSA, ADAM or COBYLA behave when doing state discrimination."
   ]
  },
  {
   "cell_type": "code",
   "execution_count": 1,
   "id": "encouraging-bathroom",
   "metadata": {},
   "outputs": [],
   "source": [
    "import sys\n",
    "\n",
    "sys.path.append('../../')\n",
    "\n",
    "import itertools\n",
    "import numpy as np\n",
    "import matplotlib.pyplot as plt\n",
    "from numpy import pi\n",
    "from qiskit.algorithms.optimizers import SPSA, COBYLA, ADAM\n",
    "from qnn.quantum_neural_networks import StateDiscriminativeQuantumNeuralNetworks as nnd\n",
    "from qnn.quantum_state import QuantumState\n",
    "\n",
    "plt.style.use('ggplot')"
   ]
  },
  {
   "cell_type": "code",
   "execution_count": 2,
   "id": "peaceful-asthma",
   "metadata": {},
   "outputs": [],
   "source": [
    "#Number of random states tested\n",
    "N = 10"
   ]
  },
  {
   "cell_type": "code",
   "execution_count": 3,
   "id": "deluxe-intellectual",
   "metadata": {},
   "outputs": [],
   "source": [
    "# Create random states\n",
    "random_states = []\n",
    "for i in range(N):\n",
    "    ψ = QuantumState.random(1)\n",
    "    ϕ = QuantumState.random(1)\n",
    "    random_states.append([ψ, ϕ])"
   ]
  },
  {
   "cell_type": "code",
   "execution_count": 4,
   "id": "retired-token",
   "metadata": {},
   "outputs": [],
   "source": [
    "# Parameters\n",
    "th_u, fi_u, lam_u = [0], [0], [0]\n",
    "th1, th2 = [0], [pi]\n",
    "th_v1, th_v2 = [0], [0]\n",
    "fi_v1, fi_v2 = [0], [0]\n",
    "lam_v1, lam_v2 = [0], [0]\n",
    "\n",
    "params = list(itertools.chain(th_u, fi_u, lam_u, th1, th2, th_v1, th_v2, fi_v1, fi_v2, lam_v1, lam_v2))"
   ]
  },
  {
   "cell_type": "code",
   "execution_count": 5,
   "id": "smoking-decimal",
   "metadata": {},
   "outputs": [],
   "source": [
    "# Initialize Discriminator\n",
    "discriminator_list = []\n",
    "for i in range(N):\n",
    "    discriminator = nnd(random_states[i])\n",
    "    discriminator_list.append(discriminator)\n",
    "# Optimal solution\n",
    "optimal_list = []\n",
    "for i in range(N):\n",
    "    optimal_list.append(nnd.helstrom_bound(random_states[i][0], random_states[i][1]))"
   ]
  },
  {
   "cell_type": "code",
   "execution_count": 6,
   "id": "handy-heater",
   "metadata": {},
   "outputs": [],
   "source": [
    "# Calculate cost function using SPSA\n",
    "# We use 75 iterations for SPSA, so he does 201 function evaluations: 50 for calibration, \n",
    "# 2 each iteration and the final evaluation.\n",
    "spsa_results = []\n",
    "for i in range(N):\n",
    "    results = discriminator_list[i].discriminate(SPSA(75), params)\n",
    "    spsa_results.append(results[1])\n"
   ]
  },
  {
   "cell_type": "code",
   "execution_count": 7,
   "id": "distant-newark",
   "metadata": {},
   "outputs": [],
   "source": [
    "# Calculate cost function using ADAM\n",
    "# Adam evaluates 12 times each iteration plus the final one so we will use 17 iterations \n",
    "# to get a total of 205 evaluations.\n",
    "adam_results = []\n",
    "for i in range(N):\n",
    "    results = discriminator_list[i].discriminate(ADAM(17), params)\n",
    "    adam_results.append(results[1])"
   ]
  },
  {
   "cell_type": "code",
   "execution_count": 8,
   "id": "prime-chancellor",
   "metadata": {},
   "outputs": [],
   "source": [
    "# Calculate cost function using COBLYA\n",
    "# COBYLA does an evaluation each iteration\n",
    "cobyla_results = []\n",
    "for i in range(N):\n",
    "    results = discriminator_list[i].discriminate(COBYLA(200), params)\n",
    "    cobyla_results.append(results[1])"
   ]
  },
  {
   "cell_type": "code",
   "execution_count": 9,
   "id": "sunrise-career",
   "metadata": {},
   "outputs": [],
   "source": [
    "# Lets calculate the mean squared error of the results\n",
    "def mean_squared_error(results, optimal_list, n):\n",
    "    sol = 0\n",
    "    for i in range(n):\n",
    "        sol += (1 / n) * (results[i] - optimal_list[i]) ** 2\n",
    "    return sol"
   ]
  },
  {
   "cell_type": "code",
   "execution_count": 10,
   "id": "changing-volume",
   "metadata": {},
   "outputs": [],
   "source": [
    "# SPSA mean_squared_error\n",
    "spsa_error = mean_squared_error(spsa_results, optimal_list, N)"
   ]
  },
  {
   "cell_type": "code",
   "execution_count": 11,
   "id": "miniature-promotion",
   "metadata": {},
   "outputs": [],
   "source": [
    "# ADAM mean_squared_error\n",
    "adam_error = mean_squared_error(adam_results, optimal_list, N)"
   ]
  },
  {
   "cell_type": "code",
   "execution_count": 12,
   "id": "velvet-external",
   "metadata": {},
   "outputs": [],
   "source": [
    "# COBYLA mean_squared_error\n",
    "cobyla_error = mean_squared_error(cobyla_results, optimal_list, N)"
   ]
  },
  {
   "cell_type": "code",
   "execution_count": 13,
   "id": "instant-recipe",
   "metadata": {},
   "outputs": [
    {
     "data": {
      "image/png": "[encoded data removed]",
      "text/plain": [
       "<Figure size 432x288 with 1 Axes>"
      ]
     },
     "metadata": {},
     "output_type": "display_data"
    }
   ],
   "source": [
    "x = [\"SPSA\", \"ADAM\", \"COBYLA\"]\n",
    "y = [spsa_error, adam_error, cobyla_error]\n",
    "\n",
    "fig = plt.bar(x, y, log=True, color=\"red\")\n",
    "plt.xlabel(\"Optimizers\")\n",
    "plt.ylabel(\"Mean Squared Error\")\n",
    "plt.title(\"Comparison of different optimizers performance\")\n",
    "plt.savefig('optimizers_performance.png', dpi=400)\n",
    "\n",
    "plt.show()"
   ]
  }
 ],
 "metadata": {
  "kernelspec": {
   "display_name": "Python 3 (ipykernel)",
   "language": "python",
   "name": "python3"
  },
  "language_info": {
   "codemirror_mode": {
    "name": "ipython",
    "version": 3
   },
   "file_extension": ".py",
   "mimetype": "text/x-python",
   "name": "python",
   "nbconvert_exporter": "python",
   "pygments_lexer": "ipython3",
   "version": "3.8.12"
  }
 },
 "nbformat": 4,
 "nbformat_minor": 5
}
