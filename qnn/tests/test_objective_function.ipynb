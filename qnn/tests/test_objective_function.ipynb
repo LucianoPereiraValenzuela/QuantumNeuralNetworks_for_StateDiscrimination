{
 "cells": [
  {
   "cell_type": "markdown",
   "id": "bfb6f4be",
   "metadata": {},
   "source": [
    "# Test: Objective function\n",
    "\n",
    "In this notebook we are testing the outcome of the cost function for two and three random quantum states both with and without noise."
   ]
  },
  {
   "cell_type": "code",
   "execution_count": 1,
   "id": "2ad2231f-0e3a-4935-a840-cda51ba609b6",
   "metadata": {},
   "outputs": [],
   "source": [
    "import sys \n",
    "sys.path.append('../')\n",
    "\n",
    "import itertools\n",
    "import numpy as np\n",
    "from quantum_neural_networks import StateDiscriminativeQuantumNeuralNetworks as nnd\n",
    "from quantum_state import QuantumState "
   ]
  },
  {
   "cell_type": "code",
   "execution_count": 2,
   "id": "8501bc05-3432-4e4f-ac2b-73b552832a02",
   "metadata": {},
   "outputs": [
    {
     "data": {
      "text/plain": [
       "0.38671875"
      ]
     },
     "execution_count": 2,
     "metadata": {},
     "output_type": "execute_result"
    }
   ],
   "source": [
    "ψ = QuantumState.random()\n",
    "ϕ = QuantumState.random()\n",
    "discriminator = nnd([ψ, ϕ])\n",
    "params = np.random.randn(11)\n",
    "discriminator.cost_function(params)"
   ]
  },
  {
   "cell_type": "code",
   "execution_count": 3,
   "id": "75ace9c1-80e2-42ce-98e4-7b55a7d9f301",
   "metadata": {},
   "outputs": [
    {
     "data": {
      "text/plain": [
       "0.240966796875"
      ]
     },
     "execution_count": 3,
     "metadata": {},
     "output_type": "execute_result"
    }
   ],
   "source": [
    "ψ = QuantumState.random()\n",
    "ϕ = QuantumState.random()\n",
    "discriminator = nnd([ψ, ϕ], .5, .5)\n",
    "params = np.random.randn(19)\n",
    "discriminator.cost_function(params)"
   ]
  },
  {
   "cell_type": "code",
   "execution_count": 4,
   "id": "ca9fd598-9499-4076-90dc-8c205eca8344",
   "metadata": {},
   "outputs": [
    {
     "data": {
      "text/plain": [
       "0.6451822916666666"
      ]
     },
     "execution_count": 4,
     "metadata": {},
     "output_type": "execute_result"
    }
   ],
   "source": [
    "ψ = QuantumState.random()\n",
    "ϕ = QuantumState.random()\n",
    "χ = QuantumState.random()\n",
    "discriminator = nnd([ψ, ϕ, χ])\n",
    "params = np.random.randn(19)\n",
    "discriminator.cost_function(params)"
   ]
  },
  {
   "cell_type": "code",
   "execution_count": 5,
   "id": "99de45b8-ec8d-46f3-9168-23a377d670e8",
   "metadata": {},
   "outputs": [
    {
     "data": {
      "text/plain": [
       "0.3077799479166667"
      ]
     },
     "execution_count": 5,
     "metadata": {},
     "output_type": "execute_result"
    }
   ],
   "source": [
    "ψ = QuantumState.random()\n",
    "ϕ = QuantumState.random()\n",
    "χ = QuantumState.random()\n",
    "discriminator = nnd([ψ, ϕ, χ], 0.5, 0.5)\n",
    "params = np.random.randn(19)\n",
    "discriminator.cost_function(params)"
   ]
  },
  {
   "cell_type": "code",
   "execution_count": 6,
   "id": "7c34cda5-d997-4f1c-8553-6b5667337fa9",
   "metadata": {},
   "outputs": [
    {
     "data": {
      "text/plain": [
       "0.46337890625000006"
      ]
     },
     "execution_count": 6,
     "metadata": {},
     "output_type": "execute_result"
    }
   ],
   "source": [
    "ψ = QuantumState.random(2)\n",
    "ϕ = QuantumState.random(3)\n",
    "discriminator = nnd([ψ, ϕ])\n",
    "params = np.random.randn(11)\n",
    "discriminator.cost_function(params)"
   ]
  },
  {
   "cell_type": "code",
   "execution_count": 7,
   "id": "b54431e0-b09c-4c93-97a9-304a2ddff0ea",
   "metadata": {},
   "outputs": [
    {
     "data": {
      "text/plain": [
       "0.248291015625"
      ]
     },
     "execution_count": 7,
     "metadata": {},
     "output_type": "execute_result"
    }
   ],
   "source": [
    "ψ = QuantumState.random(2)\n",
    "ϕ = QuantumState.random(3)\n",
    "discriminator = nnd([ψ, ϕ], 0.5, 0.5)\n",
    "params = np.random.randn(19)\n",
    "discriminator.cost_function(params)"
   ]
  },
  {
   "cell_type": "code",
   "execution_count": 8,
   "id": "5e4c73e5-97e1-4ef8-8a6e-91b7d5e1941f",
   "metadata": {},
   "outputs": [
    {
     "data": {
      "text/plain": [
       "0.33154296875"
      ]
     },
     "execution_count": 8,
     "metadata": {},
     "output_type": "execute_result"
    }
   ],
   "source": [
    "ψ = QuantumState.random(4)\n",
    "ϕ = QuantumState.random(2)\n",
    "χ = QuantumState.random(1)\n",
    "discriminator = nnd([ψ, ϕ, χ], 0.5, 0.5)\n",
    "params = np.random.randn(19)\n",
    "discriminator.cost_function(params)"
   ]
  },
  {
   "cell_type": "code",
   "execution_count": null,
   "id": "364fd7e1-917d-4ced-bcfd-428402f2782c",
   "metadata": {},
   "outputs": [],
   "source": []
  }
 ],
 "metadata": {
  "kernelspec": {
   "display_name": "Python 3 (ipykernel)",
   "language": "python",
   "name": "python3"
  },
  "language_info": {
   "codemirror_mode": {
    "name": "ipython",
    "version": 3
   },
   "file_extension": ".py",
   "mimetype": "text/x-python",
   "name": "python",
   "nbconvert_exporter": "python",
   "pygments_lexer": "ipython3",
   "version": "3.8.10"
  }
 },
 "nbformat": 4,
 "nbformat_minor": 5
}
