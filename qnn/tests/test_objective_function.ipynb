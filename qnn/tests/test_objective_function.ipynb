{
 "cells": [
  {
   "cell_type": "code",
   "execution_count": 7,
   "id": "2ad2231f-0e3a-4935-a840-cda51ba609b6",
   "metadata": {},
   "outputs": [],
   "source": [
    "import sys \n",
    "sys.path.append('../')\n",
    "\n",
    "import itertools\n",
    "import numpy as np\n",
    "from quantum_neural_networks import StateDiscriminativeQuantumNeuralNetworks as nnd\n",
    "from quantum_neural_networks import QuantumState "
   ]
  },
  {
   "cell_type": "code",
   "execution_count": 24,
   "id": "8501bc05-3432-4e4f-ac2b-73b552832a02",
   "metadata": {},
   "outputs": [
    {
     "data": {
      "text/plain": [
       "0.26904296875"
      ]
     },
     "execution_count": 24,
     "metadata": {},
     "output_type": "execute_result"
    }
   ],
   "source": [
    "ψ = QuantumState.random()\n",
    "ϕ = QuantumState.random()\n",
    "discriminator = nnd( [ψ, ϕ] )\n",
    "params = np.random.randn(11)\n",
    "discriminator.cost_function( params )"
   ]
  },
  {
   "cell_type": "code",
   "execution_count": 25,
   "id": "75ace9c1-80e2-42ce-98e4-7b55a7d9f301",
   "metadata": {},
   "outputs": [
    {
     "data": {
      "text/plain": [
       "0.269775390625"
      ]
     },
     "execution_count": 25,
     "metadata": {},
     "output_type": "execute_result"
    }
   ],
   "source": [
    "ψ = QuantumState.random()\n",
    "ϕ = QuantumState.random()\n",
    "discriminator = nnd( [ψ, ϕ], .5, .5 )\n",
    "params = np.random.randn(19)\n",
    "discriminator.cost_function( params )"
   ]
  },
  {
   "cell_type": "code",
   "execution_count": 29,
   "id": "ca9fd598-9499-4076-90dc-8c205eca8344",
   "metadata": {},
   "outputs": [
    {
     "data": {
      "text/plain": [
       "0.630859375"
      ]
     },
     "execution_count": 29,
     "metadata": {},
     "output_type": "execute_result"
    }
   ],
   "source": [
    "ψ = QuantumState.random()\n",
    "ϕ = QuantumState.random()\n",
    "χ = QuantumState.random()\n",
    "discriminator = nnd( [ψ, ϕ, χ] )\n",
    "params = np.random.randn(19)\n",
    "discriminator.cost_function( params )"
   ]
  },
  {
   "cell_type": "code",
   "execution_count": 30,
   "id": "99de45b8-ec8d-46f3-9168-23a377d670e8",
   "metadata": {},
   "outputs": [
    {
     "data": {
      "text/plain": [
       "0.3310546875"
      ]
     },
     "execution_count": 30,
     "metadata": {},
     "output_type": "execute_result"
    }
   ],
   "source": [
    "ψ = QuantumState.random()\n",
    "ϕ = QuantumState.random()\n",
    "χ = QuantumState.random()\n",
    "discriminator = nnd( [ψ, ϕ, χ], 0.5, 0.5 )\n",
    "params = np.random.randn(19)\n",
    "discriminator.cost_function( params )"
   ]
  },
  {
   "cell_type": "code",
   "execution_count": 27,
   "id": "7c34cda5-d997-4f1c-8553-6b5667337fa9",
   "metadata": {},
   "outputs": [
    {
     "data": {
      "text/plain": [
       "0.4991048177083333"
      ]
     },
     "execution_count": 27,
     "metadata": {},
     "output_type": "execute_result"
    }
   ],
   "source": [
    "ψ = QuantumState.random(2)\n",
    "ϕ = QuantumState.random(3)\n",
    "discriminator = nnd( [ψ, ϕ] )\n",
    "params = np.random.randn(11)\n",
    "discriminator.cost_function( params )"
   ]
  },
  {
   "cell_type": "code",
   "execution_count": 33,
   "id": "b54431e0-b09c-4c93-97a9-304a2ddff0ea",
   "metadata": {},
   "outputs": [
    {
     "data": {
      "text/plain": [
       "0.2816162109375"
      ]
     },
     "execution_count": 33,
     "metadata": {},
     "output_type": "execute_result"
    }
   ],
   "source": [
    "ψ = QuantumState.random(2)\n",
    "ϕ = QuantumState.random(3)\n",
    "discriminator = nnd( [ψ, ϕ], 0.5, 0.5 )\n",
    "params = np.random.randn(19)\n",
    "discriminator.cost_function( params )"
   ]
  },
  {
   "cell_type": "code",
   "execution_count": 34,
   "id": "5e4c73e5-97e1-4ef8-8a6e-91b7d5e1941f",
   "metadata": {},
   "outputs": [
    {
     "data": {
      "text/plain": [
       "0.3362630208333333"
      ]
     },
     "execution_count": 34,
     "metadata": {},
     "output_type": "execute_result"
    }
   ],
   "source": [
    "ψ = QuantumState.random(4)\n",
    "ϕ = QuantumState.random(2)\n",
    "χ = QuantumState.random(1)\n",
    "discriminator = nnd( [ψ, ϕ, χ], 0.5, 0.5 )\n",
    "params = np.random.randn(19)\n",
    "discriminator.cost_function( params )"
   ]
  },
  {
   "cell_type": "code",
   "execution_count": null,
   "id": "364fd7e1-917d-4ced-bcfd-428402f2782c",
   "metadata": {},
   "outputs": [],
   "source": []
  }
 ],
 "metadata": {
  "kernelspec": {
   "display_name": "Python 3 (ipykernel)",
   "language": "python",
   "name": "python3"
  },
  "language_info": {
   "codemirror_mode": {
    "name": "ipython",
    "version": 3
   },
   "file_extension": ".py",
   "mimetype": "text/x-python",
   "name": "python",
   "nbconvert_exporter": "python",
   "pygments_lexer": "ipython3",
   "version": "3.9.5"
  }
 },
 "nbformat": 4,
 "nbformat_minor": 5
}
