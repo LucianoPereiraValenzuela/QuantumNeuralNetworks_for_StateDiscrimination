{
 "cells": [
  {
   "cell_type": "code",
   "execution_count": 10,
   "id": "1cb582b4-7dad-4e51-8346-64fc67a95542",
   "metadata": {},
   "outputs": [],
   "source": [
    "import sys \n",
    "sys.path.append('../')\n",
    "\n",
    "import numpy as np\n",
    "from quantum_neural_networks import StateDiscriminativeQuantumNeuralNetworks as nnd\n",
    "from quantum_neural_networks import QuantumState "
   ]
  },
  {
   "cell_type": "code",
   "execution_count": 2,
   "id": "b4649783-8959-4906-acaa-df2e30a7252a",
   "metadata": {},
   "outputs": [],
   "source": [
    "ψ = QuantumState( [ np.array([1, 0]) ] )"
   ]
  },
  {
   "cell_type": "code",
   "execution_count": 3,
   "id": "0d11efb9-05c8-4625-ae3d-678486f6006a",
   "metadata": {},
   "outputs": [
    {
     "data": {
      "text/plain": [
       "[array([1, 0])]"
      ]
     },
     "execution_count": 3,
     "metadata": {},
     "output_type": "execute_result"
    }
   ],
   "source": [
    "ψ.states"
   ]
  },
  {
   "cell_type": "code",
   "execution_count": 4,
   "id": "2c0389d6-d22a-47eb-8a13-db7bc11418a0",
   "metadata": {},
   "outputs": [
    {
     "data": {
      "text/plain": [
       "[1.0]"
      ]
     },
     "execution_count": 4,
     "metadata": {},
     "output_type": "execute_result"
    }
   ],
   "source": [
    "ψ.probabilities"
   ]
  },
  {
   "cell_type": "code",
   "execution_count": 5,
   "id": "0c813514-91d1-4651-9fab-7be72f0710d9",
   "metadata": {},
   "outputs": [],
   "source": [
    "ρ = QuantumState( [ np.array([1, 0]), np.array([1, 1])/np.sqrt(2) ] )"
   ]
  },
  {
   "cell_type": "code",
   "execution_count": 6,
   "id": "2477f1db-2477-46a4-8eef-4192f695667b",
   "metadata": {},
   "outputs": [
    {
     "data": {
      "text/plain": [
       "[array([1, 0]), array([0.70710678, 0.70710678])]"
      ]
     },
     "execution_count": 6,
     "metadata": {},
     "output_type": "execute_result"
    }
   ],
   "source": [
    "ρ.states"
   ]
  },
  {
   "cell_type": "code",
   "execution_count": 7,
   "id": "185cc928-eeb7-43ba-8599-67157af95c8f",
   "metadata": {},
   "outputs": [
    {
     "data": {
      "text/plain": [
       "[0.5, 0.5]"
      ]
     },
     "execution_count": 7,
     "metadata": {},
     "output_type": "execute_result"
    }
   ],
   "source": [
    "ρ.probabilities"
   ]
  },
  {
   "cell_type": "code",
   "execution_count": 8,
   "id": "66ed1b2f-e485-4800-ad15-a35d18590cb1",
   "metadata": {},
   "outputs": [],
   "source": [
    "σ = QuantumState.random(5)"
   ]
  },
  {
   "cell_type": "code",
   "execution_count": 9,
   "id": "4c5ec2ae-02c4-4019-929e-2f5d56a17b41",
   "metadata": {},
   "outputs": [
    {
     "data": {
      "text/plain": [
       "[array([0.99482323-0.07686541j, 0.06559621+0.01075097j]),\n",
       " array([-0.63143166-0.02644322j, -0.49960427-0.59244441j]),\n",
       " array([-0.52759444+0.76996142j, -0.14535976-0.32813725j]),\n",
       " array([-0.65810193+0.29063705j,  0.44209071-0.53571239j]),\n",
       " array([ 0.04513703-0.47343337j, -0.59593964-0.64705443j])]"
      ]
     },
     "execution_count": 9,
     "metadata": {},
     "output_type": "execute_result"
    }
   ],
   "source": [
    "σ.states"
   ]
  },
  {
   "cell_type": "code",
   "execution_count": null,
   "id": "296a8341-e02f-4bf2-97bc-9d317913a2ee",
   "metadata": {},
   "outputs": [],
   "source": []
  }
 ],
 "metadata": {
  "kernelspec": {
   "display_name": "Python 3 (ipykernel)",
   "language": "python",
   "name": "python3"
  },
  "language_info": {
   "codemirror_mode": {
    "name": "ipython",
    "version": 3
   },
   "file_extension": ".py",
   "mimetype": "text/x-python",
   "name": "python",
   "nbconvert_exporter": "python",
   "pygments_lexer": "ipython3",
   "version": "3.9.5"
  }
 },
 "nbformat": 4,
 "nbformat_minor": 5
}
