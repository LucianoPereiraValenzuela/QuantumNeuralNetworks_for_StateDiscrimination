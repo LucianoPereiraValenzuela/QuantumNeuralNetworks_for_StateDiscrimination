{
 "cells": [
  {
   "cell_type": "markdown",
   "id": "119b0b3f",
   "metadata": {},
   "source": [
    "# Test: Quantum states\n",
    "\n",
    "In this notebook we are testing the generation of both defined and random quantum states using the QuantumState class."
   ]
  },
  {
   "cell_type": "code",
   "execution_count": 1,
   "id": "1cb582b4-7dad-4e51-8346-64fc67a95542",
   "metadata": {},
   "outputs": [],
   "source": [
    "import sys\n",
    "\n",
    "sys.path.append('../../')\n",
    "\n",
    "import numpy as np\n",
    "from qnn.quantum_neural_networks import StateDiscriminativeQuantumNeuralNetworks as nnd\n",
    "from qnn.quantum_state import QuantumState"
   ]
  },
  {
   "cell_type": "code",
   "execution_count": 2,
   "id": "b4649783-8959-4906-acaa-df2e30a7252a",
   "metadata": {},
   "outputs": [],
   "source": [
    "# Creates a QuantumState object with the defined params\n",
    "ψ = QuantumState([np.array([1, 0])])  "
   ]
  },
  {
   "cell_type": "code",
   "execution_count": 3,
   "id": "0d11efb9-05c8-4625-ae3d-678486f6006a",
   "metadata": {},
   "outputs": [
    {
     "data": {
      "text/plain": [
       "[array([1, 0])]"
      ]
     },
     "execution_count": 3,
     "metadata": {},
     "output_type": "execute_result"
    }
   ],
   "source": [
    "# We can access the states\n",
    "ψ.states  "
   ]
  },
  {
   "cell_type": "code",
   "execution_count": 4,
   "id": "2c0389d6-d22a-47eb-8a13-db7bc11418a0",
   "metadata": {},
   "outputs": [
    {
     "data": {
      "text/plain": [
       "[1.0]"
      ]
     },
     "execution_count": 4,
     "metadata": {},
     "output_type": "execute_result"
    }
   ],
   "source": [
    "# And the probabilities\n",
    "ψ.probabilities  "
   ]
  },
  {
   "cell_type": "code",
   "execution_count": 5,
   "id": "0c813514-91d1-4651-9fab-7be72f0710d9",
   "metadata": {},
   "outputs": [
    {
     "data": {
      "text/plain": [
       "[array([1, 0]), array([0.70710678, 0.70710678])]"
      ]
     },
     "execution_count": 5,
     "metadata": {},
     "output_type": "execute_result"
    }
   ],
   "source": [
    "# Creates a QuantumState object with the defined params\n",
    "ρ = QuantumState([np.array([1, 0]), np.array([1, 1]) / np.sqrt(2)])  \n",
    "\n",
    "# We can access the states\n",
    "ρ.states "
   ]
  },
  {
   "cell_type": "code",
   "execution_count": 6,
   "id": "185cc928-eeb7-43ba-8599-67157af95c8f",
   "metadata": {},
   "outputs": [
    {
     "data": {
      "text/plain": [
       "[0.5, 0.5]"
      ]
     },
     "execution_count": 6,
     "metadata": {},
     "output_type": "execute_result"
    }
   ],
   "source": [
    "# And the probabilities\n",
    "ρ.probabilities "
   ]
  },
  {
   "cell_type": "code",
   "execution_count": 9,
   "id": "66ed1b2f-e485-4800-ad15-a35d18590cb1",
   "metadata": {},
   "outputs": [
    {
     "data": {
      "text/plain": [
       "[array([ 0.80258079+0.55848499j, -0.16606844-0.12798387j]),\n",
       " array([ 0.75991186+0.20190476j, -0.16484282-0.59547903j]),\n",
       " array([0.43808171+0.4515078j , 0.30794218-0.71372035j]),\n",
       " array([-0.51169969+0.60012034j, -0.01003507+0.6147506j ]),\n",
       " array([0.04500584+0.50050378j, 0.31191755+0.80633609j])]"
      ]
     },
     "execution_count": 9,
     "metadata": {},
     "output_type": "execute_result"
    }
   ],
   "source": [
    "# Creates a QuantumState object with n random quantum states\n",
    "σ = QuantumState.random(5)  \n",
    "σ.states"
   ]
  }
 ],
 "metadata": {
  "kernelspec": {
   "display_name": "Python 3 (ipykernel)",
   "language": "python",
   "name": "python3"
  },
  "language_info": {
   "codemirror_mode": {
    "name": "ipython",
    "version": 3
   },
   "file_extension": ".py",
   "mimetype": "text/x-python",
   "name": "python",
   "nbconvert_exporter": "python",
   "pygments_lexer": "ipython3",
   "version": "3.8.12"
  }
 },
 "nbformat": 4,
 "nbformat_minor": 5
}
