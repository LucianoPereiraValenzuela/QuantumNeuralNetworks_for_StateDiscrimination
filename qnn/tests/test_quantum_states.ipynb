{
 "cells": [
  {
   "cell_type": "markdown",
   "id": "119b0b3f",
   "metadata": {},
   "source": [
    "# Test: Quantum states\n",
    "\n",
    "In this notebook we are testing the generation of both defined and random quantum states using the QuantumState class."
   ]
  },
  {
   "cell_type": "code",
   "execution_count": 15,
   "id": "1cb582b4-7dad-4e51-8346-64fc67a95542",
   "metadata": {},
   "outputs": [],
   "source": [
    "import sys \n",
    "sys.path.append('../../')\n",
    "\n",
    "import numpy as np\n",
    "from qnn.quantum_neural_networks import StateDiscriminativeQuantumNeuralNetworks as nnd\n",
    "from qnn.quantum_state import QuantumState "
   ]
  },
  {
   "cell_type": "code",
   "execution_count": 5,
   "id": "b4649783-8959-4906-acaa-df2e30a7252a",
   "metadata": {},
   "outputs": [],
   "source": [
    "ψ = QuantumState([np.array([1, 0])])  # Creates a QuantumState object with the defined params"
   ]
  },
  {
   "cell_type": "code",
   "execution_count": 6,
   "id": "0d11efb9-05c8-4625-ae3d-678486f6006a",
   "metadata": {},
   "outputs": [
    {
     "data": {
      "text/plain": [
       "[array([1, 0])]"
      ]
     },
     "execution_count": 6,
     "metadata": {},
     "output_type": "execute_result"
    }
   ],
   "source": [
    "ψ.states  # We can access the states"
   ]
  },
  {
   "cell_type": "code",
   "execution_count": 7,
   "id": "2c0389d6-d22a-47eb-8a13-db7bc11418a0",
   "metadata": {},
   "outputs": [
    {
     "data": {
      "text/plain": [
       "[1.0]"
      ]
     },
     "execution_count": 7,
     "metadata": {},
     "output_type": "execute_result"
    }
   ],
   "source": [
    "ψ.probabilities  # And the probabilities"
   ]
  },
  {
   "cell_type": "code",
   "execution_count": 8,
   "id": "0c813514-91d1-4651-9fab-7be72f0710d9",
   "metadata": {},
   "outputs": [],
   "source": [
    "ρ = QuantumState([np.array([1, 0]), np.array([1, 1])/np.sqrt(2)])  # Creates a QuantumState object with the defined params"
   ]
  },
  {
   "cell_type": "code",
   "execution_count": 9,
   "id": "2477f1db-2477-46a4-8eef-4192f695667b",
   "metadata": {},
   "outputs": [
    {
     "data": {
      "text/plain": [
       "[array([1, 0]), array([0.70710678, 0.70710678])]"
      ]
     },
     "execution_count": 9,
     "metadata": {},
     "output_type": "execute_result"
    }
   ],
   "source": [
    "ρ.states  # We can access the states"
   ]
  },
  {
   "cell_type": "code",
   "execution_count": 10,
   "id": "185cc928-eeb7-43ba-8599-67157af95c8f",
   "metadata": {},
   "outputs": [
    {
     "data": {
      "text/plain": [
       "[0.5, 0.5]"
      ]
     },
     "execution_count": 10,
     "metadata": {},
     "output_type": "execute_result"
    }
   ],
   "source": [
    "ρ.probabilities  # And the probabilities"
   ]
  },
  {
   "cell_type": "code",
   "execution_count": 11,
   "id": "66ed1b2f-e485-4800-ad15-a35d18590cb1",
   "metadata": {},
   "outputs": [],
   "source": [
    "σ = QuantumState.random(5)  # Creates a QuantumState object with n random quantum states"
   ]
  },
  {
   "cell_type": "code",
   "execution_count": 12,
   "id": "4c5ec2ae-02c4-4019-929e-2f5d56a17b41",
   "metadata": {},
   "outputs": [
    {
     "data": {
      "text/plain": [
       "[array([0.65687294+0.25382368j, 0.63501031-0.31757422j]),\n",
       " array([-0.08881865-0.06155179j, -0.82971799+0.54762276j]),\n",
       " array([ 0.52065116-0.37998698j, -0.28506059+0.70941717j]),\n",
       " array([-0.00471883+0.0457426j , -0.18059838-0.98248133j]),\n",
       " array([-0.58991007+0.18699008j,  0.77807802-0.10786754j])]"
      ]
     },
     "execution_count": 12,
     "metadata": {},
     "output_type": "execute_result"
    }
   ],
   "source": [
    "σ.states"
   ]
  },
  {
   "cell_type": "code",
   "execution_count": null,
   "id": "a47d739c-18da-422d-9563-797dc11797a3",
   "metadata": {},
   "outputs": [],
   "source": []
  }
 ],
 "metadata": {
  "kernelspec": {
   "display_name": "Python 3 (ipykernel)",
   "language": "python",
   "name": "python3"
  },
  "language_info": {
   "codemirror_mode": {
    "name": "ipython",
    "version": 3
   },
   "file_extension": ".py",
   "mimetype": "text/x-python",
   "name": "python",
   "nbconvert_exporter": "python",
   "pygments_lexer": "ipython3",
   "version": "3.8.10"
  }
 },
 "nbformat": 4,
 "nbformat_minor": 5
}
