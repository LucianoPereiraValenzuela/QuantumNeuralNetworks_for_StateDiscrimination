{
 "cells": [
  {
   "cell_type": "markdown",
   "id": "e6baec1d",
   "metadata": {},
   "source": [
    "# Experiment of our program in a real quantum computer"
   ]
  },
  {
   "cell_type": "code",
   "execution_count": 1,
   "id": "046e596c-e9eb-4481-937e-b0cde0c2e827",
   "metadata": {},
   "outputs": [],
   "source": [
    "import sys \n",
    "sys.path.append('../../')\n",
    "\n",
    "import itertools\n",
    "import numpy as np\n",
    "from numpy import pi\n",
    "from qiskit import Aer, IBMQ\n",
    "from qiskit.compiler import transpile\n",
    "from qiskit.algorithms.optimizers import COBYLA, SPSA, ADAM\n",
    "from qnn.quantum_neural_networks import StateDiscriminativeQuantumNeuralNetworks as nnd\n",
    "from qnn.quantum_state import QuantumState "
   ]
  },
  {
   "cell_type": "code",
   "execution_count": null,
   "id": "46f437a6-f375-4917-bf52-9957660004df",
   "metadata": {},
   "outputs": [],
   "source": [
    "IBMQ.load_account()\n",
    "provider = IBMQ.get_provider(hub='ibm-q-csic', group='internal', project='iff-csic')\n",
    "name_backend = 'ibmq_casablanca'\n",
    "backend = provider.get_backend(name_backend)"
   ]
  },
  {
   "cell_type": "code",
   "execution_count": null,
   "id": "5083a546-7c9b-4c6b-9f19-c420caf44d0d",
   "metadata": {},
   "outputs": [],
   "source": [
    "# Create random states\n",
    "ψ = QuantumState.random()\n",
    "ϕ = QuantumState.random()\n",
    "# ψ = np.array([1,0])\n",
    "# φ = np.array([0,1])\n",
    "\n",
    "# Parameters\n",
    "th_u, fi_u, lam_u = [0], [0], [0]\n",
    "th1, th2 = [0], [pi]\n",
    "th_v1, th_v2 = [0], [0]\n",
    "fi_v1, fi_v2 = [0], [0]\n",
    "lam_v1, lam_v2 = [0], [0]\n",
    "\n",
    "params = list(itertools.chain(th_u, fi_u, lam_u, th1, th2, th_v1, th_v2, fi_v1, fi_v2, lam_v1, lam_v2))\n",
    "# Initialize Discriminator\n",
    "discriminator = nnd([ψ, ϕ], backend=backend)\n",
    "\n",
    "# Calculate cost function\n",
    "results = discriminator.discriminate(SPSA(100), params)\n",
    "\n",
    "# Optimal error\n",
    "optimal = nnd.helstrom_bound(ψ, ϕ)\n",
    "\n",
    "print(f'Optimal results: {optimal}\\nActual results: {results}')"
   ]
  },
  {
   "cell_type": "code",
   "execution_count": null,
   "id": "6af2f769-2e01-4842-b5fe-c2c6eba88d1e",
   "metadata": {},
   "outputs": [],
   "source": []
  }
 ],
 "metadata": {
  "kernelspec": {
   "display_name": "Python 3 (ipykernel)",
   "language": "python",
   "name": "python3"
  },
  "language_info": {
   "codemirror_mode": {
    "name": "ipython",
    "version": 3
   },
   "file_extension": ".py",
   "mimetype": "text/x-python",
   "name": "python",
   "nbconvert_exporter": "python",
   "pygments_lexer": "ipython3",
   "version": "3.9.5"
  }
 },
 "nbformat": 4,
 "nbformat_minor": 5
}
