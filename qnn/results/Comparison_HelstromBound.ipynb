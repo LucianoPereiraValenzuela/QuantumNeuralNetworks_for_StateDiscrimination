{
 "cells": [
  {
   "cell_type": "markdown",
   "id": "9176828a",
   "metadata": {},
   "source": [
    "# Comparison with the Helstrom Bound\n",
    "    \n",
    "In this notebook we compare our results with the Helstrom Bound, wich is the theoretical minimum-error probability there is when discriminating two non-orthogonal quantum states."
   ]
  },
  {
   "cell_type": "code",
   "execution_count": null,
   "id": "138a12d2",
   "metadata": {},
   "outputs": [],
   "source": [
    "import sys \n",
    "import itertools\n",
    "import numpy as np\n",
    "from numpy import pi\n",
    "from qiskit.algorithms.optimizers import SPSA\n",
    "import matplotlib.pyplot as plt\n",
    "\n",
    "sys.path.append('../')\n",
    "\n",
    "from quantum_neural_networks import StateDiscriminativeQuantumNeuralNetworks as nnd\n",
    "from quantum_state import QuantumState \n",
    "\n",
    "plt.style.use('ggplot')"
   ]
  },
  {
   "cell_type": "code",
   "execution_count": null,
   "id": "293cc872",
   "metadata": {},
   "outputs": [],
   "source": [
    "# Create the experimental results for 30 qubits with diffents phases\n",
    "th = np.linspace(0., pi / 2, num=30)\n",
    "err = []\n",
    "for theta in th:\n",
    "    state0 = QuantumState([np.array([1, 0])])\n",
    "    state1 = QuantumState([np.array([np.cos(theta), np.sin(theta)])])\n",
    "    # Parameters\n",
    "    th_u, fi_u, lam_u = [pi], [0], [0]\n",
    "    th1, th2 = [0], [pi]\n",
    "    th_v1, th_v2 = [0], [0]\n",
    "    fi_v1, fi_v2 = [0], [pi / 2]\n",
    "    lam_v1, lam_v2 = [pi], [0]\n",
    "\n",
    "    params = list(itertools.chain(th_u, fi_u, lam_u, th1, th2, th_v1, th_v2, fi_v1, fi_v2, lam_v1, lam_v2))\n",
    "    # Initialize Discriminator\n",
    "    discriminator = nnd([state0, state1])\n",
    "\n",
    "    # Calculate cost function\n",
    "    results = discriminator.discriminate(SPSA(100), params)[1]\n",
    "    err.append(results)"
   ]
  },
  {
   "cell_type": "code",
   "execution_count": null,
   "id": "377d1929",
   "metadata": {},
   "outputs": [],
   "source": [
    "fig = plt.figure(figsize=(14,6))\n",
    "\n",
    "# Draw the experimental results\n",
    "plt.scatter(th[:-1], err[:-1], label='Experimental results')\n",
    "\n",
    "# Calculate the teorical prediction by Helstrom Bound, as a continuous line\n",
    "th_t = np.linspace(0., pi / 2, num=1000)\n",
    "err_t = []\n",
    "for theta in th_t:\n",
    "    state0 = QuantumState(np.array([1, 0]))\n",
    "    state1 = QuantumState(np.array([np.cos(theta), np.sin(theta)]))\n",
    "    err_t.append(nnd.helstrom_bound(state0, state1))\n",
    "plt.plot(th_t, err_t, label='Theoretical prediction', color='tab:blue')\n",
    "plt.title('Error probability by phase between states')\n",
    "plt.legend(loc='upper right')\n",
    "plt.xlabel(\"Phase(rad)\")\n",
    "plt.ylabel(\"Error probability\")"
   ]
  },
  {
   "cell_type": "code",
   "execution_count": null,
   "id": "f6901bc6-ff49-4f8a-b0cc-f8f7393be46a",
   "metadata": {},
   "outputs": [],
   "source": []
  }
 ],
 "metadata": {
  "kernelspec": {
   "display_name": "Python 3 (ipykernel)",
   "language": "python",
   "name": "python3"
  },
  "language_info": {
   "codemirror_mode": {
    "name": "ipython",
    "version": 3
   },
   "file_extension": ".py",
   "mimetype": "text/x-python",
   "name": "python",
   "nbconvert_exporter": "python",
   "pygments_lexer": "ipython3",
   "version": "3.8.10"
  }
 },
 "nbformat": 4,
 "nbformat_minor": 5
}
