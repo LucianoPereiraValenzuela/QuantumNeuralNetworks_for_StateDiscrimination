{
 "cells": [
  {
   "cell_type": "code",
   "execution_count": 1,
   "id": "6133c76d-c63c-4a67-aa6b-531c71b79647",
   "metadata": {},
   "outputs": [],
   "source": [
    "import itertools\n",
    "import numpy as np\n",
    "from numpy import pi\n",
    "from qiskit import Aer\n",
    "from qiskit.compiler import transpile\n",
    "from qiskit.algorithms.optimizers import COBYLA, SPSA, ADAM\n",
    "from quantum_neural_networks import StateDiscriminativeQuantumNeuralNetworks, helstrom_bound, random_quantum_state"
   ]
  },
  {
   "cell_type": "markdown",
   "id": "5aee9bf3-ce24-4be4-bd40-56056c65a160",
   "metadata": {},
   "source": [
    "Una medida generaliza es un conjunto de operadores $M_j$ que satisfacen $\\sum_j M_j^\\dagger M_j = I$. A los operadores $E_j=M_j^\\dagger M_j $ son llamados elementos de POVM."
   ]
  },
  {
   "cell_type": "code",
   "execution_count": 2,
   "id": "6871900c-2f2d-4fcb-84bd-3160462302fc",
   "metadata": {},
   "outputs": [
    {
     "name": "stdout",
     "output_type": "stream",
     "text": [
      "(array([ 3.33105536e+00, -2.10889922e+00,  3.32164411e+00,  7.91676632e-03,\n",
      "       -1.05148411e+00,  6.22352944e+00,  2.24123750e+00,  2.16838058e+00,\n",
      "        5.19775852e+00, -1.43737766e-01,  3.97111795e+00, -3.74242337e-03,\n",
      "        6.48353422e+00, -1.61980798e+00,  4.01404983e+00,  3.62032371e+00,\n",
      "        9.79611629e-01, -3.29693427e+00,  6.75559904e+00]), 0.25, 200)\n"
     ]
    },
    {
     "data": {
      "text/plain": [
       "0.08501107593857665"
      ]
     },
     "execution_count": 2,
     "metadata": {},
     "output_type": "execute_result"
    }
   ],
   "source": [
    "# Create random states\n",
    "ψ = random_quantum_state()\n",
    "ϕ = random_quantum_state()\n",
    "# ψ = np.array([1,0])\n",
    "# φ = np.array([0,1])\n",
    "\n",
    "# Parameters\n",
    "th_u, fi_u, lam_u = [0], [0], [0]\n",
    "th1, th2  = [0, 0], [pi, pi]\n",
    "th_v1, th_v2 = [0, pi], [0, pi]\n",
    "fi_v1, fi_v2 = [0, pi], [0, pi]\n",
    "lam_v1, lam_v2 = [0, pi],  [0, pi]\n",
    "\n",
    "params = list(itertools.chain(th_u, fi_u, lam_u, th1, th2, th_v1, th_v2, fi_v1, fi_v2, lam_v1, lam_v2))\n",
    "# Initialize Discriminator\n",
    "discriminator = StateDiscriminativeQuantumNeuralNetworks([ψ, ϕ], 0.5, 0.5)\n",
    "\n",
    "# Calculate cost function\n",
    "results = discriminator.discriminate(SPSA(100), params)\n",
    "print( results )"
   ]
  }
 ],
 "metadata": {
  "kernelspec": {
   "display_name": "Python 3 (ipykernel)",
   "language": "python",
   "name": "python3"
  },
  "language_info": {
   "codemirror_mode": {
    "name": "ipython",
    "version": 3
   },
   "file_extension": ".py",
   "mimetype": "text/x-python",
   "name": "python",
   "nbconvert_exporter": "python",
   "pygments_lexer": "ipython3",
   "version": "3.8.12"
  }
 },
 "nbformat": 4,
 "nbformat_minor": 5
}
