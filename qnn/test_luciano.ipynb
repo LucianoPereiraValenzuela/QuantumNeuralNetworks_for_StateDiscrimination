{
 "cells": [
  {
   "cell_type": "code",
   "execution_count": 1,
   "id": "6133c76d-c63c-4a67-aa6b-531c71b79647",
   "metadata": {},
   "outputs": [],
   "source": [
    "import itertools\n",
    "import numpy as np\n",
    "from numpy import pi\n",
    "from qiskit import Aer\n",
    "from qiskit.compiler import transpile\n",
    "from qiskit.algorithms.optimizers import COBYLA, SPSA, ADAM\n",
    "from quantum_neural_networks import StateDiscriminativeQuantumNeuralNetworks"
   ]
  },
  {
   "cell_type": "code",
   "execution_count": 2,
   "id": "6871900c-2f2d-4fcb-84bd-3160462302fc",
   "metadata": {},
   "outputs": [],
   "source": [
    "# Create random states\n",
    "ψ = StateDiscriminativeQuantumNeuralNetworks.random_quantum_state(1)\n",
    "ϕ = StateDiscriminativeQuantumNeuralNetworks.random_quantum_state(1)\n",
    "\n",
    "# Parameters\n",
    "th_u, fi_u, lam_u = [0], [0], [0]\n",
    "th1, th2  = [0], [pi]\n",
    "th_v1, th_v2 = [0], [0]\n",
    "fi_v1, fi_v2 = [0], [0]\n",
    "lam_v1, lam_v2 = [0],  [0]\n",
    "\n",
    "params = list(itertools.chain(th_u, fi_u, lam_u, th1, th2, th_v1, th_v2, fi_v1, fi_v2, lam_v1, lam_v2))\n",
    "# Initialize Discriminator\n",
    "discriminator = StateDiscriminativeQuantumNeuralNetworks([ψ, ϕ] )"
   ]
  },
  {
   "cell_type": "code",
   "execution_count": 3,
   "id": "dc0a4ccb-0dbf-47f3-9e55-211242d86b19",
   "metadata": {},
   "outputs": [
    {
     "data": {
      "text/plain": [
       "0.3994140625"
      ]
     },
     "execution_count": 3,
     "metadata": {},
     "output_type": "execute_result"
    }
   ],
   "source": [
    "discriminator.cost_function(params)"
   ]
  },
  {
   "cell_type": "code",
   "execution_count": 4,
   "id": "368246fb-eba3-48ad-a29d-e2024b4ec865",
   "metadata": {},
   "outputs": [
    {
     "name": "stdout",
     "output_type": "stream",
     "text": [
      "(array([-0.82474855, -0.28785724, -1.86263757,  0.25217857,  3.34883112,\n",
      "       -1.60227722,  2.42490187, -0.307848  , -1.31347818, -1.24757582,\n",
      "       -1.0560078 ]), 0.3427734375, 200)\n"
     ]
    }
   ],
   "source": [
    "# Calculate cost function\n",
    "results = discriminator.discriminate(SPSA(100), params)\n",
    "print( results )"
   ]
  },
  {
   "cell_type": "code",
   "execution_count": 5,
   "id": "7c15407e-008e-4d36-9738-06fd8836c402",
   "metadata": {},
   "outputs": [
    {
     "data": {
      "text/plain": [
       "0.3388201158900387"
      ]
     },
     "execution_count": 5,
     "metadata": {},
     "output_type": "execute_result"
    }
   ],
   "source": [
    "# Optimal error\n",
    "StateDiscriminativeQuantumNeuralNetworks.helstrom_bound(ψ,ϕ)"
   ]
  },
  {
   "cell_type": "code",
   "execution_count": null,
   "id": "7a807642-3e32-4b66-b438-4d5ae3ed40bd",
   "metadata": {},
   "outputs": [],
   "source": []
  }
 ],
 "metadata": {
  "kernelspec": {
   "display_name": "Python 3 (ipykernel)",
   "language": "python",
   "name": "python3"
  },
  "language_info": {
   "codemirror_mode": {
    "name": "ipython",
    "version": 3
   },
   "file_extension": ".py",
   "mimetype": "text/x-python",
   "name": "python",
   "nbconvert_exporter": "python",
   "pygments_lexer": "ipython3",
   "version": "3.9.5"
  }
 },
 "nbformat": 4,
 "nbformat_minor": 5
}
