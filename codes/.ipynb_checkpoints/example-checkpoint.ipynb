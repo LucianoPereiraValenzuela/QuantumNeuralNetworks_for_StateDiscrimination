{
 "cells": [
  {
   "cell_type": "code",
   "execution_count": 20,
   "id": "6133c76d-c63c-4a67-aa6b-531c71b79647",
   "metadata": {},
   "outputs": [],
   "source": [
    "import numpy as np"
   ]
  },
  {
   "cell_type": "code",
   "execution_count": 21,
   "id": "57158101-f166-425c-86fa-6a6105f9a937",
   "metadata": {},
   "outputs": [],
   "source": [
    "from qiskit import QuantumCircuit"
   ]
  },
  {
   "cell_type": "markdown",
   "id": "5aee9bf3-ce24-4be4-bd40-56056c65a160",
   "metadata": {},
   "source": [
    "Una medida generaliza es un conjunto de operadores $M_j$ que satisfacen $\\sum_j M_j^\\dagger M_j = I$. A los operadores $E_j=M_j^\\dagger M_j $ son llamados elementos de POVM."
   ]
  },
  {
   "cell_type": "code",
   "execution_count": 22,
   "id": "6871900c-2f2d-4fcb-84bd-3160462302fc",
   "metadata": {},
   "outputs": [],
   "source": [
    "def random_generalized_measurement():\n",
    "    \n",
    "    Z0 = np.random.randn(2,2) + 1j*np.random.randn(2,2)\n",
    "    Z0, _ = np.linalg.qr(Z0)\n",
    "    \n",
    "    Z1 = np.random.randn(2,2) + 1j*np.random.randn(2,2)\n",
    "    Z1, _ = np.linalg.qr(Z1)\n",
    "    \n",
    "    M0 = Z0@np.array([ [1,0], [0,0] ])\n",
    "    M1 = Z1@np.array([ [0,0], [0,1] ])\n",
    "    \n",
    "    return M0, M1"
   ]
  },
  {
   "cell_type": "code",
   "execution_count": 23,
   "id": "621b7eb8-85c6-4fe5-8479-80d16981dd83",
   "metadata": {},
   "outputs": [],
   "source": [
    "M0, M1 = random_generalized_measurement()"
   ]
  },
  {
   "cell_type": "code",
   "execution_count": 24,
   "id": "4b498fbe-5d60-4597-abab-ef6c031108e6",
   "metadata": {},
   "outputs": [
    {
     "data": {
      "text/plain": [
       "array([[1.+0.j, 0.+0.j],\n",
       "       [0.+0.j, 1.+0.j]])"
      ]
     },
     "execution_count": 24,
     "metadata": {},
     "output_type": "execute_result"
    }
   ],
   "source": [
    "M0.T.conj()@M0 + M1.T.conj()@M1"
   ]
  },
  {
   "cell_type": "code",
   "execution_count": null,
   "id": "ebc19933-4314-4432-b729-878158844be1",
   "metadata": {},
   "outputs": [],
   "source": []
  },
  {
   "cell_type": "code",
   "execution_count": null,
   "id": "db4807fe-af2e-4270-a0d7-74c44c9f6176",
   "metadata": {},
   "outputs": [],
   "source": []
  },
  {
   "cell_type": "code",
   "execution_count": null,
   "id": "082691da-3b9e-4319-8049-454a76951edc",
   "metadata": {},
   "outputs": [],
   "source": []
  },
  {
   "cell_type": "code",
   "execution_count": null,
   "id": "46a75d11-a42b-4691-8168-ffb12fbd752d",
   "metadata": {},
   "outputs": [],
   "source": []
  },
  {
   "cell_type": "code",
   "execution_count": null,
   "id": "85935c9f-1dcf-40da-9d78-babc4fe94f1f",
   "metadata": {},
   "outputs": [],
   "source": []
  },
  {
   "cell_type": "code",
   "execution_count": null,
   "id": "d11f2237-e90d-4ce4-8380-9c26c95e57fd",
   "metadata": {},
   "outputs": [],
   "source": []
  },
  {
   "cell_type": "code",
   "execution_count": null,
   "id": "babdff3a-6bc9-4bef-98cb-9267f49d65eb",
   "metadata": {},
   "outputs": [],
   "source": []
  }
 ],
 "metadata": {
  "kernelspec": {
   "display_name": "Python 3 (ipykernel)",
   "language": "python",
   "name": "python3"
  },
  "language_info": {
   "codemirror_mode": {
    "name": "ipython",
    "version": 3
   },
   "file_extension": ".py",
   "mimetype": "text/x-python",
   "name": "python",
   "nbconvert_exporter": "python",
   "pygments_lexer": "ipython3",
   "version": "3.9.5"
  }
 },
 "nbformat": 4,
 "nbformat_minor": 5
}
