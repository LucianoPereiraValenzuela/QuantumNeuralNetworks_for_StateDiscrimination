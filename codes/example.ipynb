{
 "cells": [
  {
   "cell_type": "code",
   "execution_count": 1,
   "id": "6133c76d-c63c-4a67-aa6b-531c71b79647",
   "metadata": {},
   "outputs": [],
   "source": [
    "import numpy as np"
   ]
  },
  {
   "cell_type": "markdown",
   "id": "5aee9bf3-ce24-4be4-bd40-56056c65a160",
   "metadata": {},
   "source": [
    "Una medida generaliza es un conjunto de operadores $M_j$ que satisfacen $\\sum_j M_j^\\dagger M_j = I$. A los operadores $E_j=M_j^\\dagger M_j $ son llamados elementos de POVM."
   ]
  },
  {
   "cell_type": "code",
   "execution_count": 2,
   "id": "6871900c-2f2d-4fcb-84bd-3160462302fc",
   "metadata": {},
   "outputs": [],
   "source": [
    "def random_generalized_measurement():\n",
    "    \n",
    "    Z0 = np.random.randn(2,2) + 1j*np.random.randn(2,2)\n",
    "    Z0, _ = np.linalg.qr(Z0)\n",
    "    \n",
    "    Z1 = np.random.randn(2,2) + 1j*np.random.randn(2,2)\n",
    "    Z1, _ = np.linalg.qr(Z1)\n",
    "    \n",
    "    M0 = Z0@np.array([ [1,0], [0,0] ])\n",
    "    M1 = Z1@np.array([ [0,0], [0,1] ])\n",
    "    \n",
    "    return M0, M1"
   ]
  },
  {
   "cell_type": "code",
   "execution_count": 3,
   "id": "4b9e2e95-b954-4b4a-ab2f-9a21928d7c3f",
   "metadata": {},
   "outputs": [],
   "source": [
    "def random_quantum_state():\n",
    "    z0 = np.random.randn(2) + 1j*np.random.randn(2)\n",
    "    z0 = z0/np.linalg.norm(z0)\n",
    "    return z0"
   ]
  },
  {
   "cell_type": "code",
   "execution_count": 4,
   "id": "621b7eb8-85c6-4fe5-8479-80d16981dd83",
   "metadata": {},
   "outputs": [],
   "source": [
    "M0, M1 = random_generalized_measurement()"
   ]
  },
  {
   "cell_type": "code",
   "execution_count": 5,
   "id": "4b498fbe-5d60-4597-abab-ef6c031108e6",
   "metadata": {},
   "outputs": [
    {
     "data": {
      "text/plain": [
       "array([[1.+0.j, 0.+0.j],\n",
       "       [0.+0.j, 1.+0.j]])"
      ]
     },
     "execution_count": 5,
     "metadata": {},
     "output_type": "execute_result"
    }
   ],
   "source": [
    "M0.T.conj()@M0 + M1.T.conj()@M1"
   ]
  },
  {
   "cell_type": "code",
   "execution_count": 6,
   "id": "ebc19933-4314-4432-b729-878158844be1",
   "metadata": {},
   "outputs": [],
   "source": [
    "V0, D0, U0 = np.linalg.svd(M0) \n",
    "V1, D1, U1 = np.linalg.svd(M1) "
   ]
  },
  {
   "cell_type": "code",
   "execution_count": 7,
   "id": "db4807fe-af2e-4270-a0d7-74c44c9f6176",
   "metadata": {},
   "outputs": [
    {
     "data": {
      "text/plain": [
       "(array([[1.+0.j, 0.+0.j],\n",
       "        [0.+0.j, 1.+0.j]]),\n",
       " array([[ 0.        +0.j       , -0.22840074-0.9735672j],\n",
       "        [-1.        +0.j       , -0.        +0.j       ]]))"
      ]
     },
     "execution_count": 7,
     "metadata": {},
     "output_type": "execute_result"
    }
   ],
   "source": [
    "U0, U1"
   ]
  },
  {
   "cell_type": "code",
   "execution_count": 8,
   "id": "082691da-3b9e-4319-8049-454a76951edc",
   "metadata": {},
   "outputs": [
    {
     "data": {
      "text/plain": [
       "(array([[-0.25880612-0.33733364j,  0.18887638+0.88518423j],\n",
       "        [ 0.60620128-0.6721201j ,  0.39280855-0.16271457j]]),\n",
       " array([[-0.628248  +0.j        , -0.77801314+0.j        ],\n",
       "        [-0.55373881-0.54651421j,  0.44714579+0.4413119j ]]))"
      ]
     },
     "execution_count": 8,
     "metadata": {},
     "output_type": "execute_result"
    }
   ],
   "source": [
    "V0, V1"
   ]
  },
  {
   "cell_type": "code",
   "execution_count": 9,
   "id": "46a75d11-a42b-4691-8168-ffb12fbd752d",
   "metadata": {},
   "outputs": [
    {
     "data": {
      "text/plain": [
       "(array([1., 0.]), array([1., 0.]))"
      ]
     },
     "execution_count": 9,
     "metadata": {},
     "output_type": "execute_result"
    }
   ],
   "source": [
    "D0, D1"
   ]
  },
  {
   "cell_type": "code",
   "execution_count": 10,
   "id": "d11f2237-e90d-4ce4-8380-9c26c95e57fd",
   "metadata": {},
   "outputs": [
    {
     "data": {
      "text/plain": [
       "(array([[-0.25880612-0.33733364j,  0.18887638+0.88518423j],\n",
       "        [ 0.60620128-0.6721201j ,  0.39280855-0.16271457j]]),\n",
       " array([1., 0.]),\n",
       " array([[1.+0.j, 0.+0.j],\n",
       "        [0.+0.j, 1.+0.j]]))"
      ]
     },
     "execution_count": 10,
     "metadata": {},
     "output_type": "execute_result"
    }
   ],
   "source": [
    "np.linalg.svd(M0) "
   ]
  },
  {
   "cell_type": "code",
   "execution_count": null,
   "id": "babdff3a-6bc9-4bef-98cb-9267f49d65eb",
   "metadata": {},
   "outputs": [],
   "source": []
  },
  {
   "cell_type": "code",
   "execution_count": 11,
   "id": "61a5ed16-c01f-4a27-bf94-b8c8187fd279",
   "metadata": {},
   "outputs": [],
   "source": [
    "from qiskit import QuantumCircuit, Aer\n",
    "from qiskit.compiler import transpile\n",
    "from PovmN import *"
   ]
  },
  {
   "cell_type": "code",
   "execution_count": 69,
   "id": "f649a250-f51f-467b-8534-d163165cd8e2",
   "metadata": {},
   "outputs": [],
   "source": [
    "ψ = random_quantum_state()\n",
    "ϕ = random_quantum_state()"
   ]
  },
  {
   "cell_type": "code",
   "execution_count": 78,
   "id": "1378265d-4654-4cf1-be8a-09d6415cd8dd",
   "metadata": {},
   "outputs": [
    {
     "data": {
      "text/plain": [
       "(array([0.71357796+0.13077629j, 0.56930941+0.38676976j]),\n",
       " array([-0.44906725-0.66246669j,  0.58596998-0.12694756j]))"
      ]
     },
     "execution_count": 78,
     "metadata": {},
     "output_type": "execute_result"
    }
   ],
   "source": [
    "ψ, ϕ"
   ]
  },
  {
   "cell_type": "code",
   "execution_count": 70,
   "id": "6b8fff97-ef1a-4e10-8bca-e563aadb834d",
   "metadata": {},
   "outputs": [],
   "source": [
    "N=2\n",
    "th1=[pi]\n",
    "th2=[pi/2]\n",
    "th_v1=[pi]\n",
    "th_v2=[pi/2]\n",
    "fi_v1=[pi]\n",
    "fi_v2=[pi/2]\n",
    "lam_v1=[pi]\n",
    "lam_v2=[pi/2]"
   ]
  },
  {
   "cell_type": "code",
   "execution_count": 71,
   "id": "dd557703-1bed-461c-9e25-a72eaff43fc2",
   "metadata": {},
   "outputs": [],
   "source": [
    "circuit = povmN(U,N,th1,th2,th_v1,th_v2,fi_v1,fi_v2,lam_v1,lam_v2)"
   ]
  },
  {
   "cell_type": "code",
   "execution_count": 72,
   "id": "aa553839-6bb1-436d-b8cd-a863500bc17a",
   "metadata": {},
   "outputs": [
    {
     "data": {
      "image/png": "[encoded data removed]",
      "text/plain": [
       "<Figure size 929.252x144.48 with 1 Axes>"
      ]
     },
     "execution_count": 72,
     "metadata": {},
     "output_type": "execute_result"
    }
   ],
   "source": [
    "circuit.draw(output='mpl')"
   ]
  },
  {
   "cell_type": "code",
   "execution_count": 73,
   "id": "ee680e78-0544-43e4-b891-0e613a0a9250",
   "metadata": {},
   "outputs": [
    {
     "data": {
      "text/plain": [
       "<qiskit.circuit.instructionset.InstructionSet at 0x21ccbbf3130>"
      ]
     },
     "execution_count": 73,
     "metadata": {},
     "output_type": "execute_result"
    }
   ],
   "source": [
    "qc_ψ = QuantumCircuit( 2, 1 )\n",
    "qc_ψ.initialize( ψ, 0 )\n",
    "qc_ψ.barrier()\n",
    "qc_ψ.compose( circuit, [0,1], inplace=True )\n",
    "qc_ψ.measure( 1, 0 )"
   ]
  },
  {
   "cell_type": "code",
   "execution_count": 74,
   "id": "67a0723c-64a1-42d2-b142-6d2d70e49817",
   "metadata": {},
   "outputs": [
    {
     "data": {
      "image/png": "[encoded data removed]",
      "text/plain": [
       "<Figure size 1230.25x204.68 with 1 Axes>"
      ]
     },
     "execution_count": 74,
     "metadata": {},
     "output_type": "execute_result"
    }
   ],
   "source": [
    "qc_ψ.draw(output='mpl')"
   ]
  },
  {
   "cell_type": "code",
   "execution_count": 75,
   "id": "0b7e5d07-08e1-4a3d-861c-93943b7e7ed5",
   "metadata": {},
   "outputs": [
    {
     "data": {
      "text/plain": [
       "<qiskit.circuit.instructionset.InstructionSet at 0x21ccb7a55e0>"
      ]
     },
     "execution_count": 75,
     "metadata": {},
     "output_type": "execute_result"
    }
   ],
   "source": [
    "qc_ϕ = QuantumCircuit( 2, 1 )\n",
    "qc_ϕ.initialize( ϕ, 0 )\n",
    "qc_ϕ.barrier()\n",
    "qc_ϕ.compose( circuit, [0,1], inplace=True )\n",
    "qc_ϕ.measure( 1, 0 )"
   ]
  },
  {
   "cell_type": "code",
   "execution_count": 79,
   "id": "81d69a27-b5ee-4d7a-94b2-05dc703db2e0",
   "metadata": {},
   "outputs": [
    {
     "data": {
      "image/png": "[encoded data removed]",
      "text/plain": [
       "<Figure size 1290.45x204.68 with 1 Axes>"
      ]
     },
     "execution_count": 79,
     "metadata": {},
     "output_type": "execute_result"
    }
   ],
   "source": [
    "qc_ϕ.draw(output='mpl')"
   ]
  },
  {
   "cell_type": "code",
   "execution_count": 80,
   "id": "7d11fe92-a542-4397-97a0-7e7eb8299320",
   "metadata": {},
   "outputs": [],
   "source": [
    "backend_sim = Aer.get_backend('aer_simulator')"
   ]
  },
  {
   "cell_type": "code",
   "execution_count": 81,
   "id": "592044d6-1225-4858-af71-b659d21ba6ac",
   "metadata": {},
   "outputs": [],
   "source": [
    "qc_ψ = transpile(qc_ψ, backend_sim)\n",
    "results_ψ = backend_sim.run( qc_ψ )"
   ]
  },
  {
   "cell_type": "code",
   "execution_count": 82,
   "id": "15eeaef1-b748-4695-965f-88703271a168",
   "metadata": {},
   "outputs": [],
   "source": [
    "qc_ϕ = transpile(qc_ψ, backend_sim)\n",
    "results_ϕ = backend_sim.run( qc_ϕ )"
   ]
  },
  {
   "cell_type": "code",
   "execution_count": 83,
   "id": "bb55353b-fd81-469e-89f9-9aaa30fc23f0",
   "metadata": {},
   "outputs": [],
   "source": [
    "shots = 2**10"
   ]
  },
  {
   "cell_type": "code",
   "execution_count": 84,
   "id": "e9a8de12-989c-4f20-8c02-9b10c482ebe5",
   "metadata": {},
   "outputs": [
    {
     "data": {
      "text/plain": [
       "{'1': 776, '0': 248}"
      ]
     },
     "execution_count": 84,
     "metadata": {},
     "output_type": "execute_result"
    }
   ],
   "source": [
    "counts_ψ = results_ψ.result().get_counts()\n",
    "counts_ψ"
   ]
  },
  {
   "cell_type": "code",
   "execution_count": 85,
   "id": "ec2db0d8-05c7-4f96-82cb-3e5ac311f92d",
   "metadata": {},
   "outputs": [
    {
     "data": {
      "text/plain": [
       "{'0': 209, '1': 815}"
      ]
     },
     "execution_count": 85,
     "metadata": {},
     "output_type": "execute_result"
    }
   ],
   "source": [
    "counts_ϕ =results_ϕ.result().get_counts()\n",
    "counts_ϕ"
   ]
  },
  {
   "cell_type": "markdown",
   "id": "d0c71a83-14f0-4f5f-8188-be66a8e59c50",
   "metadata": {},
   "source": [
    "$\\psi\\rightarrow 0$\n",
    "\n",
    "$\\varphi\\rightarrow 1$\n",
    "\n",
    "inconclusivo $\\rightarrow 2$"
   ]
  },
  {
   "cell_type": "code",
   "execution_count": 86,
   "id": "8b2d0bd3-51e6-4950-9385-f75572849865",
   "metadata": {},
   "outputs": [],
   "source": [
    "p_0_ψ = counts_ψ['0'] / shots\n",
    "p_1_ψ = counts_ψ['1'] / shots\n",
    "p_0_ϕ = counts_ϕ['0'] / shots\n",
    "p_1_ϕ = counts_ϕ['1'] / shots"
   ]
  },
  {
   "cell_type": "code",
   "execution_count": 87,
   "id": "472938b1-daba-4f56-a124-40501f37f029",
   "metadata": {},
   "outputs": [
    {
     "data": {
      "text/plain": [
       "0.2421875"
      ]
     },
     "execution_count": 87,
     "metadata": {},
     "output_type": "execute_result"
    }
   ],
   "source": [
    "p_0_ψ"
   ]
  },
  {
   "cell_type": "code",
   "execution_count": 88,
   "id": "1d39f85b-5657-41d1-981c-4ba2d7ed3836",
   "metadata": {},
   "outputs": [
    {
     "data": {
      "text/plain": [
       "0.7578125"
      ]
     },
     "execution_count": 88,
     "metadata": {},
     "output_type": "execute_result"
    }
   ],
   "source": [
    "p_1_ψ "
   ]
  },
  {
   "cell_type": "code",
   "execution_count": 89,
   "id": "bc5bb603-05b3-4bc8-8a1b-59e13d1b605a",
   "metadata": {},
   "outputs": [
    {
     "data": {
      "text/plain": [
       "0.2041015625"
      ]
     },
     "execution_count": 89,
     "metadata": {},
     "output_type": "execute_result"
    }
   ],
   "source": [
    "p_0_ϕ  "
   ]
  },
  {
   "cell_type": "code",
   "execution_count": 90,
   "id": "f5a5a13e-a6c0-44a9-b698-cae01f58b6c3",
   "metadata": {},
   "outputs": [
    {
     "data": {
      "text/plain": [
       "0.7958984375"
      ]
     },
     "execution_count": 90,
     "metadata": {},
     "output_type": "execute_result"
    }
   ],
   "source": [
    "p_1_ϕ"
   ]
  },
  {
   "cell_type": "code",
   "execution_count": 91,
   "id": "e33c12fc-3240-4d9d-86fb-0204eef4d1ed",
   "metadata": {},
   "outputs": [
    {
     "data": {
      "text/plain": [
       "0.48095703125"
      ]
     },
     "execution_count": 91,
     "metadata": {},
     "output_type": "execute_result"
    }
   ],
   "source": [
    "Perr = 0.5*p_1_ψ + 0.5*p_0_ϕ\n",
    "Perr"
   ]
  },
  {
   "cell_type": "code",
   "execution_count": null,
   "id": "bf3c28fc-beaf-475e-b253-bacc693cae39",
   "metadata": {},
   "outputs": [],
   "source": []
  },
  {
   "cell_type": "code",
   "execution_count": null,
   "id": "8a4a98ec-8084-4535-811b-e120781ee843",
   "metadata": {},
   "outputs": [],
   "source": []
  },
  {
   "cell_type": "code",
   "execution_count": null,
   "id": "b6c0f426-5504-4786-a047-64752cd84170",
   "metadata": {},
   "outputs": [],
   "source": []
  },
  {
   "cell_type": "code",
   "execution_count": null,
   "id": "9a946470-ca2c-40a9-a8e9-84b88a3a7e00",
   "metadata": {},
   "outputs": [],
   "source": [
    "\n",
    "- PovmN\n",
    "- QNN\n",
    "--- discriminate( ψ, ϕ, shots, iters, α_error, α_inc, noise )\n",
    "--- cost_function( ψ, ϕ, parameters )\n",
    "- utils\n",
    "\n",
    "- examples \n",
    "- experimento\n",
    "\n",
    "\n",
    "\n",
    "\n",
    "\n",
    "\n"
   ]
  },
  {
   "cell_type": "code",
   "execution_count": null,
   "id": "2bb58410-f6c1-4404-b23a-12b09699b3a4",
   "metadata": {},
   "outputs": [],
   "source": []
  },
  {
   "cell_type": "code",
   "execution_count": null,
   "id": "07436e85-7e7d-4cbf-97c7-cfe2c2770fd8",
   "metadata": {},
   "outputs": [],
   "source": []
  },
  {
   "cell_type": "code",
   "execution_count": null,
   "id": "60d517fb-aa0c-4328-8668-8ad17d103f17",
   "metadata": {},
   "outputs": [],
   "source": []
  },
  {
   "cell_type": "code",
   "execution_count": null,
   "id": "e9c7d280-7f8c-451e-943d-93823dd03950",
   "metadata": {},
   "outputs": [],
   "source": []
  },
  {
   "cell_type": "code",
   "execution_count": null,
   "id": "791b4a5b-dd74-4c28-bbd4-8d5b3ddf46ab",
   "metadata": {},
   "outputs": [],
   "source": []
  }
 ],
 "metadata": {
  "kernelspec": {
   "display_name": "Python 3 (ipykernel)",
   "language": "python",
   "name": "python3"
  },
  "language_info": {
   "codemirror_mode": {
    "name": "ipython",
    "version": 3
   },
   "file_extension": ".py",
   "mimetype": "text/x-python",
   "name": "python",
   "nbconvert_exporter": "python",
   "pygments_lexer": "ipython3",
   "version": "3.9.5"
  }
 },
 "nbformat": 4,
 "nbformat_minor": 5
}
