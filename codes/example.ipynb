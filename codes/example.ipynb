{
 "cells": [
  {
   "cell_type": "code",
   "execution_count": 1,
   "id": "6133c76d-c63c-4a67-aa6b-531c71b79647",
   "metadata": {},
   "outputs": [],
   "source": [
    "import numpy as np"
   ]
  },
  {
   "cell_type": "markdown",
   "id": "5aee9bf3-ce24-4be4-bd40-56056c65a160",
   "metadata": {},
   "source": [
    "Una medida generaliza es un conjunto de operadores $M_j$ que satisfacen $\\sum_j M_j^\\dagger M_j = I$. A los operadores $E_j=M_j^\\dagger M_j $ son llamados elementos de POVM."
   ]
  },
  {
   "cell_type": "code",
   "execution_count": 2,
   "id": "6871900c-2f2d-4fcb-84bd-3160462302fc",
   "metadata": {},
   "outputs": [],
   "source": [
    "def random_generalized_measurement():\n",
    "    \n",
    "    Z0 = np.random.randn(2,2) + 1j*np.random.randn(2,2)\n",
    "    Z0, _ = np.linalg.qr(Z0)\n",
    "    \n",
    "    Z1 = np.random.randn(2,2) + 1j*np.random.randn(2,2)\n",
    "    Z1, _ = np.linalg.qr(Z1)\n",
    "    \n",
    "    M0 = Z0@np.array([ [1,0], [0,0] ])\n",
    "    M1 = Z1@np.array([ [0,0], [0,1] ])\n",
    "    \n",
    "    return M0, M1"
   ]
  },
  {
   "cell_type": "code",
   "execution_count": 43,
   "id": "4b9e2e95-b954-4b4a-ab2f-9a21928d7c3f",
   "metadata": {},
   "outputs": [],
   "source": [
    "def random_quantum_state():\n",
    "    z0 = np.random.randn(2) + 1j*np.random.randn(2)\n",
    "    z0 = z0/np.linalg.norm(z0)\n",
    "    return z0"
   ]
  },
  {
   "cell_type": "code",
   "execution_count": 3,
   "id": "621b7eb8-85c6-4fe5-8479-80d16981dd83",
   "metadata": {},
   "outputs": [],
   "source": [
    "M0, M1 = random_generalized_measurement()"
   ]
  },
  {
   "cell_type": "code",
   "execution_count": 4,
   "id": "4b498fbe-5d60-4597-abab-ef6c031108e6",
   "metadata": {},
   "outputs": [
    {
     "data": {
      "text/plain": [
       "array([[1.+0.j, 0.+0.j],\n",
       "       [0.+0.j, 1.+0.j]])"
      ]
     },
     "execution_count": 4,
     "metadata": {},
     "output_type": "execute_result"
    }
   ],
   "source": [
    "M0.T.conj()@M0 + M1.T.conj()@M1"
   ]
  },
  {
   "cell_type": "code",
   "execution_count": 5,
   "id": "ebc19933-4314-4432-b729-878158844be1",
   "metadata": {},
   "outputs": [],
   "source": [
    "V0, D0, U0 = np.linalg.svd(M0) \n",
    "V1, D1, U1 = np.linalg.svd(M1) "
   ]
  },
  {
   "cell_type": "code",
   "execution_count": 6,
   "id": "db4807fe-af2e-4270-a0d7-74c44c9f6176",
   "metadata": {},
   "outputs": [
    {
     "data": {
      "text/plain": [
       "(array([[1.+0.j, 0.+0.j],\n",
       "        [0.+0.j, 1.+0.j]]),\n",
       " array([[-0.       +0.j        ,  0.5632297+0.82630037j],\n",
       "        [-1.       +0.j        , -0.       +0.j        ]]))"
      ]
     },
     "execution_count": 6,
     "metadata": {},
     "output_type": "execute_result"
    }
   ],
   "source": [
    "U0, U1"
   ]
  },
  {
   "cell_type": "code",
   "execution_count": 7,
   "id": "082691da-3b9e-4319-8049-454a76951edc",
   "metadata": {},
   "outputs": [
    {
     "data": {
      "text/plain": [
       "(array([[-0.02651613-0.08508753j,  0.1439026 +0.98557042j],\n",
       "        [ 0.30421085-0.94842647j,  0.04016374-0.07956046j]]),\n",
       " array([[ 0.46222504+0.j        , -0.88676266+0.j        ],\n",
       "        [-0.88217385+0.09009613j, -0.45983312+0.04696261j]]))"
      ]
     },
     "execution_count": 7,
     "metadata": {},
     "output_type": "execute_result"
    }
   ],
   "source": [
    "V0, V1"
   ]
  },
  {
   "cell_type": "code",
   "execution_count": 8,
   "id": "46a75d11-a42b-4691-8168-ffb12fbd752d",
   "metadata": {},
   "outputs": [
    {
     "data": {
      "text/plain": [
       "(array([1., 0.]), array([1., 0.]))"
      ]
     },
     "execution_count": 8,
     "metadata": {},
     "output_type": "execute_result"
    }
   ],
   "source": [
    "D0, D1"
   ]
  },
  {
   "cell_type": "code",
   "execution_count": 9,
   "id": "d11f2237-e90d-4ce4-8380-9c26c95e57fd",
   "metadata": {},
   "outputs": [
    {
     "data": {
      "text/plain": [
       "(array([[-0.02651613-0.08508753j,  0.1439026 +0.98557042j],\n",
       "        [ 0.30421085-0.94842647j,  0.04016374-0.07956046j]]),\n",
       " array([1., 0.]),\n",
       " array([[1.+0.j, 0.+0.j],\n",
       "        [0.+0.j, 1.+0.j]]))"
      ]
     },
     "execution_count": 9,
     "metadata": {},
     "output_type": "execute_result"
    }
   ],
   "source": [
    "np.linalg.svd(M0) "
   ]
  },
  {
   "cell_type": "code",
   "execution_count": null,
   "id": "babdff3a-6bc9-4bef-98cb-9267f49d65eb",
   "metadata": {},
   "outputs": [],
   "source": []
  },
  {
   "cell_type": "code",
   "execution_count": 91,
   "id": "61a5ed16-c01f-4a27-bf94-b8c8187fd279",
   "metadata": {},
   "outputs": [],
   "source": [
    "from qiskit import QuantumCircuit, Aer\n",
    "from qiskit.compiler import transpile"
   ]
  },
  {
   "cell_type": "code",
   "execution_count": 25,
   "id": "d5ea3d09-3e26-4e8b-a346-14f6d9dfc498",
   "metadata": {},
   "outputs": [
    {
     "data": {
      "text/plain": [
       "<qiskit.circuit.instructionset.InstructionSet at 0x1eeee7b42b0>"
      ]
     },
     "execution_count": 25,
     "metadata": {},
     "output_type": "execute_result"
    }
   ],
   "source": [
    "qc_v1 = QuantumCircuit(1)\n",
    "qc_v1.unitary(  V0, 0 )\n",
    "qc_v2 = QuantumCircuit(1)\n",
    "qc_v2.unitary(  V1, 0 )"
   ]
  },
  {
   "cell_type": "code",
   "execution_count": 69,
   "id": "a1f1aeec-2cc8-44ed-a59b-c9bacbbb8f05",
   "metadata": {},
   "outputs": [
    {
     "data": {
      "text/plain": [
       "<qiskit.circuit.instructionset.InstructionSet at 0x1eef3ba05b0>"
      ]
     },
     "execution_count": 69,
     "metadata": {},
     "output_type": "execute_result"
    }
   ],
   "source": [
    "qc = QuantumCircuit(2,1)\n",
    "qc.unitary( U0,  0)\n",
    "qc.x(0)\n",
    "qc.cry( 0, 0, 1 )\n",
    "qc.x(0)\n",
    "qc.cry( 0, 0, 1 )\n",
    "qc.compose( qc_v1.control(1) , [0,1], inplace=True )\n",
    "qc.compose( qc_v2.control(1) , [0,1], inplace=True )\n",
    "qc.measure(1,0)"
   ]
  },
  {
   "cell_type": "code",
   "execution_count": 70,
   "id": "24deddcf-46b2-4b29-8e42-8af9d48672c2",
   "metadata": {},
   "outputs": [
    {
     "data": {
      "image/png": "[encoded data removed]",
      "text/plain": [
       "<Figure size 748.652x204.68 with 1 Axes>"
      ]
     },
     "execution_count": 70,
     "metadata": {},
     "output_type": "execute_result"
    }
   ],
   "source": [
    "qc.draw(output='mpl')"
   ]
  },
  {
   "cell_type": "code",
   "execution_count": 44,
   "id": "9e943e59-37bb-4a47-a0f7-e45208f4962a",
   "metadata": {},
   "outputs": [],
   "source": [
    "ψ = random_quantum_state()\n",
    "ϕ = random_quantum_state()"
   ]
  },
  {
   "cell_type": "code",
   "execution_count": 45,
   "id": "21877f6c-201e-4b5b-b6fe-eb8aea267246",
   "metadata": {},
   "outputs": [
    {
     "data": {
      "text/plain": [
       "(0.8052179677800013-0.29927275990223545j)"
      ]
     },
     "execution_count": 45,
     "metadata": {},
     "output_type": "execute_result"
    }
   ],
   "source": [
    "np.vdot(ψ,ϕ)"
   ]
  },
  {
   "cell_type": "code",
   "execution_count": 76,
   "id": "5474e68b-f29a-4856-b95f-697852a14e34",
   "metadata": {},
   "outputs": [],
   "source": [
    "qc_ψ = QuantumCircuit(2,1)\n",
    "qc_ψ.initialize( ψ, 0 )\n",
    "qc_ψ.compose( qc, qubits=[0,1], clbits=[0], inplace=True )"
   ]
  },
  {
   "cell_type": "code",
   "execution_count": 77,
   "id": "d5bf964f-46fd-4f2f-a5e2-2947d02b1220",
   "metadata": {},
   "outputs": [
    {
     "data": {
      "image/png": "[encoded data removed]",
      "text/plain": [
       "<Figure size 1290.45x204.68 with 1 Axes>"
      ]
     },
     "execution_count": 77,
     "metadata": {},
     "output_type": "execute_result"
    }
   ],
   "source": [
    "qc_ψ.decompose().draw(output='mpl')"
   ]
  },
  {
   "cell_type": "code",
   "execution_count": 79,
   "id": "c67195e6-96e8-416f-a091-652feafe6df7",
   "metadata": {},
   "outputs": [],
   "source": [
    "qc_ϕ = QuantumCircuit(2, 1)\n",
    "qc_ϕ.initialize( ϕ, 0 )\n",
    "qc_ϕ.compose( qc, qubits=[0,1], clbits=[0], inplace=True )"
   ]
  },
  {
   "cell_type": "code",
   "execution_count": 96,
   "id": "fda24f74-e8b7-48c5-b2a2-d10270bf9cdb",
   "metadata": {},
   "outputs": [
    {
     "data": {
      "image/png": "[encoded data removed]",
      "text/plain": [
       "<Figure size 1591.45x445.48 with 1 Axes>"
      ]
     },
     "execution_count": 96,
     "metadata": {},
     "output_type": "execute_result"
    }
   ],
   "source": [
    "qc_ϕ.decompose().decompose().draw(output='mpl')"
   ]
  },
  {
   "cell_type": "code",
   "execution_count": 82,
   "id": "7d11fe92-a542-4397-97a0-7e7eb8299320",
   "metadata": {},
   "outputs": [],
   "source": [
    "backend_sim = Aer.get_backend('aer_simulator')"
   ]
  },
  {
   "cell_type": "code",
   "execution_count": 98,
   "id": "592044d6-1225-4858-af71-b659d21ba6ac",
   "metadata": {},
   "outputs": [],
   "source": [
    "qc_ψ = transpile(qc_ψ, backend_sim)\n",
    "results_ψ = backend_sim.run( qc_ψ )"
   ]
  },
  {
   "cell_type": "code",
   "execution_count": 99,
   "id": "15eeaef1-b748-4695-965f-88703271a168",
   "metadata": {},
   "outputs": [],
   "source": [
    "qc_ϕ = transpile(qc_ψ, backend_sim)\n",
    "results_ϕ = backend_sim.run( qc_ϕ )"
   ]
  },
  {
   "cell_type": "code",
   "execution_count": null,
   "id": "e9a8de12-989c-4f20-8c02-9b10c482ebe5",
   "metadata": {},
   "outputs": [],
   "source": []
  },
  {
   "cell_type": "code",
   "execution_count": null,
   "id": "ec2db0d8-05c7-4f96-82cb-3e5ac311f92d",
   "metadata": {},
   "outputs": [],
   "source": []
  },
  {
   "cell_type": "code",
   "execution_count": null,
   "id": "7b608c81-fcbf-4260-bc40-c1a98308d3ac",
   "metadata": {},
   "outputs": [],
   "source": []
  },
  {
   "cell_type": "code",
   "execution_count": null,
   "id": "8b2d0bd3-51e6-4950-9385-f75572849865",
   "metadata": {},
   "outputs": [],
   "source": []
  }
 ],
 "metadata": {
  "kernelspec": {
   "display_name": "Python 3 (ipykernel)",
   "language": "python",
   "name": "python3"
  },
  "language_info": {
   "codemirror_mode": {
    "name": "ipython",
    "version": 3
   },
   "file_extension": ".py",
   "mimetype": "text/x-python",
   "name": "python",
   "nbconvert_exporter": "python",
   "pygments_lexer": "ipython3",
   "version": "3.9.5"
  }
 },
 "nbformat": 4,
 "nbformat_minor": 5
}
